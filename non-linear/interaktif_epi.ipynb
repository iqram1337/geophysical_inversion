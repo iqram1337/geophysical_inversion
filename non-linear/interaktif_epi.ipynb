{
 "cells": [
  {
   "cell_type": "code",
   "execution_count": 1,
   "id": "5a857ed2",
   "metadata": {},
   "outputs": [],
   "source": [
    "import numpy as np\n",
    "import matplotlib.pyplot as plt\n",
    "import pandas as pd\n",
    "from ipywidgets import interact\n",
    "import ipywidgets as widgets"
   ]
  },
  {
   "cell_type": "code",
   "execution_count": 6,
   "id": "6fcfa622",
   "metadata": {},
   "outputs": [
    {
     "data": {
      "application/vnd.jupyter.widget-view+json": {
       "model_id": "7deead2239994138886b1e52b2bcaa46",
       "version_major": 2,
       "version_minor": 0
      },
      "text/plain": [
       "interactive(children=(IntSlider(value=0, description='indeks', max=1), Output()), _dom_classes=('widget-intera…"
      ]
     },
     "metadata": {},
     "output_type": "display_data"
    }
   ],
   "source": [
    "@interact\n",
    "def interaktif(indeks=0):\n",
    "    x0 = 40; y0 = 30\n",
    "    vp = 4 # km/s\n",
    "    t0 = 0\n",
    "\n",
    "    # stasiun 1\n",
    "    stat1 = [20,10]; vp1 = 7.1\n",
    "\n",
    "    # stasiun 2\n",
    "    stat2 = [50,25]; vp2 = 2.8\n",
    "\n",
    "    # stasiun 3\n",
    "    stat3 = [40,50]; vp3 = 5.0\n",
    "\n",
    "    # stasiun 4\n",
    "    stat4 = [10,40]; vp4 = 7.9\n",
    "\n",
    "    # concat\n",
    "    xs = np.array([20,50,40,10,40])\n",
    "    ys = np.array([10,25,50,40,10])\n",
    "\n",
    "    # persamaan menghitung travel time\n",
    "    def f(xsi,ysi, x0=40,y0=30):\n",
    "        return t0 + np.sqrt((x0-xsi)**2 + (y0-ysi)**2)/(4)\n",
    "\n",
    "    t_obs = f(xs,ys)\n",
    "    \n",
    "    xgrid = np.arange(0,65,5)\n",
    "    ygrid = np.arange(0,65,5)\n",
    "    X,Y = np.meshgrid(xgrid,ygrid)\n",
    "    t_calc = f(X,Y)\n",
    "    \n",
    "    # model referensi\n",
    "    m_ref = [1,10] # x0,y0\n",
    "\n",
    "    iterasi = indeks\n",
    "    misfit = np.array([np.inf])\n",
    "\n",
    "    for i in range(iterasi):\n",
    "\n",
    "        # forward modelling\n",
    "        t_fm = f(xs,ys, m_ref[0], m_ref[1])\n",
    "        delta_d = t_obs - t_fm\n",
    "\n",
    "        # menghitung error\n",
    "        rms = np.sqrt(np.mean(delta_d**2))\n",
    "        misfit = np.append(misfit, rms)\n",
    "\n",
    "        if np.isclose(misfit[i], misfit[i-1]) or misfit[i] == 0:\n",
    "            break\n",
    "        else:\n",
    "            # matrix jacobi\n",
    "            dtdx0 = (m_ref[0]-xs)/(vp*np.sqrt((m_ref[0]-xs)**2 + (m_ref[1]-ys)**2))\n",
    "            dtdy0 = (m_ref[1]-ys)/(vp*np.sqrt((m_ref[0]-xs)**2 + (m_ref[1]-ys)**2))\n",
    "            J = np.column_stack([dtdx0, dtdy0])\n",
    "\n",
    "            m_calc = np.linalg.inv((J.T).dot(J)).dot(J.T).dot(delta_d)\n",
    "            m_ref = m_ref + m_calc\n",
    "    \n",
    "    #plt.contour(X, Y, t_calc, cmap=\"gray\")\n",
    "    plt.grid()\n",
    "    plt.scatter(x0,y0, marker=\"*\", c=\"black\", s=200)\n",
    "    plt.scatter(m_ref[0], m_ref[1], c='red',s=70)\n",
    "    plt.annotate(f\"iterasi= {indeks}\", xy=[50, 50])\n",
    "    plt.scatter(xs[0], ys[0], color=\"blue\", marker=\"v\", s=100, label=\"stasiun\")\n",
    "    plt.scatter(xs[1], ys[1], color=\"blue\", marker=\"v\", s=100)\n",
    "    plt.scatter(xs[2], ys[2], color=\"blue\", marker=\"v\", s=100)\n",
    "    plt.scatter(xs[3], ys[3], color=\"blue\", marker=\"v\", s=100)\n",
    "    plt.scatter(xs[4], ys[4], color=\"blue\", marker=\"v\", s=100)\n",
    "    plt.xlim(0,60)\n",
    "    plt.ylim(0,60)\n",
    "    plt.show()"
   ]
  },
  {
   "cell_type": "code",
   "execution_count": 7,
   "id": "602daa9e",
   "metadata": {},
   "outputs": [
    {
     "data": {
      "application/vnd.jupyter.widget-view+json": {
       "model_id": "21a6b491480d47c69eefb767ef2a1488",
       "version_major": 2,
       "version_minor": 0
      },
      "text/plain": [
       "interactive(children=(Play(value=0, description='indeks', interval=1000, max=4), Output()), _dom_classes=('wid…"
      ]
     },
     "metadata": {},
     "output_type": "display_data"
    }
   ],
   "source": [
    "interact(interaktif, indeks=widgets.Play(min=0,max=4, interval=1000))\n",
    "plt.show()"
   ]
  },
  {
   "cell_type": "code",
   "execution_count": null,
   "id": "9f7d1b24",
   "metadata": {},
   "outputs": [],
   "source": []
  }
 ],
 "metadata": {
  "kernelspec": {
   "display_name": "Python 3 (ipykernel)",
   "language": "python",
   "name": "python3"
  },
  "language_info": {
   "codemirror_mode": {
    "name": "ipython",
    "version": 3
   },
   "file_extension": ".py",
   "mimetype": "text/x-python",
   "name": "python",
   "nbconvert_exporter": "python",
   "pygments_lexer": "ipython3",
   "version": "3.9.5"
  }
 },
 "nbformat": 4,
 "nbformat_minor": 5
}
