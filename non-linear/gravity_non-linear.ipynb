{
 "cells": [
  {
   "cell_type": "code",
   "execution_count": 1,
   "id": "1e438eeb",
   "metadata": {},
   "outputs": [],
   "source": [
    "import numpy as np\n",
    "import matplotlib.pyplot as plt\n",
    "import pandas as pd"
   ]
  },
  {
   "cell_type": "code",
   "execution_count": 2,
   "id": "ad95e038",
   "metadata": {},
   "outputs": [],
   "source": [
    "G_konstanta = 6.67e-11 # SI (m^3 kg^-1 s^-2)\n",
    "\n",
    "# parameter model sintetik\n",
    "x0 = 400 # m\n",
    "z0 = 300 # m\n",
    "R = 100 # m\n",
    "rho = 3000 # kg/m3\n",
    "\n",
    "# variabel bebas x\n",
    "x = np.arange(0,1001,50)"
   ]
  },
  {
   "cell_type": "code",
   "execution_count": 3,
   "id": "dc7d83c8",
   "metadata": {},
   "outputs": [],
   "source": [
    "# fungsi forward modelling bola homogen\n",
    "def f(x0, z0, R, rho):\n",
    "    return G_konstanta*((4/3)*np.pi*(R**3)*z0*rho)/(((x-x0)**2+(z0**2))**(3/2))*10e5\n",
    "\n",
    "# matriks kernel\n",
    "G = np.column_stack([f(x0, z0, R, rho)])\n",
    "\n",
    "# fungsi bola sphere\n",
    "def bola_sphere(x0, z0, R):\n",
    "    q = np.linspace(0,2*np.pi,1000)\n",
    "\n",
    "    xSphere = R*np.cos(q)+x0\n",
    "    zSphere = R*np.sin(q)+z0\n",
    "    \n",
    "    return xSphere, zSphere"
   ]
  },
  {
   "cell_type": "code",
   "execution_count": 4,
   "id": "1348eae1",
   "metadata": {},
   "outputs": [
    {
     "data": {
      "image/png": "[encoded data removed]",
      "text/plain": [
       "<Figure size 432x432 with 2 Axes>"
      ]
     },
     "metadata": {
      "needs_background": "light"
     },
     "output_type": "display_data"
    }
   ],
   "source": [
    "d_obs = f(x0, z0, R, rho)\n",
    "xb1,yb1 = bola_sphere(x0, z0, R)\n",
    "\n",
    "# plotting\n",
    "fig, (ax1, ax2) = plt.subplots(2, 1, sharex = True, figsize=(6,6))\n",
    "\n",
    "ax1.plot(x,d_obs,'k')\n",
    "ax1.set_ylabel(\"anomali gravitasi (mGal)\")\n",
    "\n",
    "ax2.plot(xb1,yb1,'k')\n",
    "ax2.set_ylim(-50,500)\n",
    "ax2.grid()\n",
    "ax2.set_ylabel(\"kedalaman (m)\")\n",
    "ax2.set_xlabel(\"jarak (m)\")\n",
    "ax2.invert_yaxis()\n",
    "plt.show()"
   ]
  },
  {
   "cell_type": "code",
   "execution_count": 5,
   "id": "d4ad3f84",
   "metadata": {
    "scrolled": false
   },
   "outputs": [
    {
     "name": "stdout",
     "output_type": "stream",
     "text": [
      "[50, 50]\n",
      "[49.43895845 76.24926056]\n",
      "[ 47.29318321 117.77920349]\n",
      "[ 42.52701883 179.12433575]\n",
      "[ 66.4371867  264.27722137]\n",
      "[265.67453934 369.13307865]\n",
      "[577.85191816 318.31605413]\n",
      "[332.10177509 338.01066868]\n",
      "[465.25587155 304.24282627]\n",
      "[367.38169898 305.592496  ]\n",
      "[418.25990969 301.65359457]\n",
      "[390.56438899 300.52775152]\n",
      "[404.77139517 300.14825324]\n",
      "[397.60649776 300.03893608]\n",
      "[401.19771463 300.00992662]\n",
      "[399.40099596 300.00249827]\n",
      "[400.29951411 300.00062606]\n",
      "[399.85023979 300.00015662]\n",
      "[400.07488009 300.00003917]\n",
      "[399.96255985 300.00000979]\n",
      "[400.01872006 300.00000245]\n",
      "[399.99063997 300.00000061]\n",
      "[400.00468002 300.00000015]\n",
      "[399.99765999 300.00000004]\n",
      "[400.00117    300.00000001]\n"
     ]
    }
   ],
   "source": [
    "# model referensi\n",
    "m_ref = [50,50] # x0,z0\n",
    "\n",
    "banyak_iterasi = 25\n",
    "misfit = np.array([np.inf])\n",
    "\n",
    "# inversi non linier\n",
    "for i in range(banyak_iterasi):\n",
    "    # forward modelling\n",
    "    d_fm = f(m_ref[0],m_ref[1],R,rho)\n",
    "    delta_d = d_obs - d_fm\n",
    "    \n",
    "    print(m_ref)\n",
    "    \n",
    "    # menghitung misfit\n",
    "    rms = np.sqrt(np.mean(delta_d**2))\n",
    "    misfit = np.append(misfit, rms)\n",
    "    \n",
    "    if np.isclose(misfit[i], misfit[i-1]) or misfit[i] == 0:\n",
    "        break\n",
    "    else:\n",
    "        # matrix jacobi\n",
    "        turunanx0 = G_konstanta*(4/3)*np.pi*(R**3)*m_ref[1]*rho*2*(x-m_ref[0])/(((x-m_ref[0])**2 + (0-m_ref[1])**2)**(5/2))*10e5\n",
    "        turunanz0 = G_konstanta*(4/3)*np.pi*(R**3)*m_ref[1]*rho*2*(0-m_ref[1])/(((x-m_ref[0])**2 + (0-m_ref[1])**2)**(5/2))*10e5\n",
    "        J = np.column_stack([turunanx0, turunanz0])\n",
    "\n",
    "        # inversi\n",
    "        m_calc = m_ref + np.linalg.inv((J.T).dot(J)).dot(J.T).dot(delta_d)\n",
    "        m_ref = m_calc\n",
    "        "
   ]
  },
  {
   "cell_type": "code",
   "execution_count": 7,
   "id": "3107745c",
   "metadata": {},
   "outputs": [
    {
     "data": {
      "image/png": "[encoded data removed]",
      "text/plain": [
       "<Figure size 432x288 with 1 Axes>"
      ]
     },
     "metadata": {
      "needs_background": "light"
     },
     "output_type": "display_data"
    }
   ],
   "source": [
    "plt.plot(np.arange(len(misfit)), misfit)\n",
    "plt.ylabel(\"misfit\")\n",
    "plt.xlabel(\"iterasi\")\n",
    "plt.show()"
   ]
  },
  {
   "cell_type": "code",
   "execution_count": null,
   "id": "7ff0b8d4",
   "metadata": {},
   "outputs": [],
   "source": []
  }
 ],
 "metadata": {
  "kernelspec": {
   "display_name": "Python 3 (ipykernel)",
   "language": "python",
   "name": "python3"
  },
  "language_info": {
   "codemirror_mode": {
    "name": "ipython",
    "version": 3
   },
   "file_extension": ".py",
   "mimetype": "text/x-python",
   "name": "python",
   "nbconvert_exporter": "python",
   "pygments_lexer": "ipython3",
   "version": "3.9.5"
  }
 },
 "nbformat": 4,
 "nbformat_minor": 5
}
