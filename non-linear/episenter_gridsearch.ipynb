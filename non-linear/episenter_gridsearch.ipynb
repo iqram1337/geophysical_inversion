{
 "cells": [
  {
   "cell_type": "code",
   "execution_count": 1,
   "id": "4f364b6b",
   "metadata": {},
   "outputs": [],
   "source": [
    "import numpy as np\n",
    "import matplotlib.pyplot as plt\n",
    "import pandas as pd"
   ]
  },
  {
   "cell_type": "code",
   "execution_count": 2,
   "id": "34230b24",
   "metadata": {},
   "outputs": [],
   "source": [
    "# episenter sintetik\n",
    "x0 = 40\n",
    "y0 = 30\n",
    "\n",
    "# origin time dan vp sintetik\n",
    "vp = 4 # km/s\n",
    "t0 = 0\n",
    "\n",
    "# data koordinat stasiun\n",
    "xs = np.array([20,60,40,10,10,55])\n",
    "ys = np.array([10,25,60,40,25,50])\n",
    "label = ['ST-01','ST-02','ST-03','ST-04','ST-05', 'ST-06']"
   ]
  },
  {
   "cell_type": "markdown",
   "id": "73310dda",
   "metadata": {},
   "source": [
    "## $t^{cal}_i = t_0 + \\frac{\\sqrt{(xs_i - x_0)^2 + (ys_i - y_0)^2}}{v_p} ; i = 1,...,N $"
   ]
  },
  {
   "cell_type": "code",
   "execution_count": 3,
   "id": "e996ea9f",
   "metadata": {},
   "outputs": [],
   "source": [
    "# persamaan menghitung travel time\n",
    "def f(xsi,ysi, x0=40,y0=30, vp=4):\n",
    "    return t0 + np.sqrt((x0-xsi)**2 + (y0-ysi)**2)/(vp)"
   ]
  },
  {
   "cell_type": "code",
   "execution_count": 4,
   "id": "8bd0ba1a",
   "metadata": {},
   "outputs": [
    {
     "data": {
      "text/plain": [
       "array([7.07106781, 5.15388203, 7.5       , 7.90569415, 7.60345316,\n",
       "       6.25      ])"
      ]
     },
     "execution_count": 4,
     "metadata": {},
     "output_type": "execute_result"
    }
   ],
   "source": [
    "# t observasi sintetik\n",
    "t_obs = f(xs,ys)\n",
    "t_obs"
   ]
  },
  {
   "cell_type": "code",
   "execution_count": 8,
   "id": "e37a69b1",
   "metadata": {},
   "outputs": [
    {
     "data": {
      "image/png": "[encoded data removed]",
      "text/plain": [
       "<Figure size 432x288 with 2 Axes>"
      ]
     },
     "metadata": {
      "needs_background": "light"
     },
     "output_type": "display_data"
    }
   ],
   "source": [
    "# membuat grid\n",
    "width = 70\n",
    "height = 70\n",
    "sliced = 10\n",
    "grid = np.array([(w, h,) for w in range(0, width, sliced) for h in range(0, height, sliced)])\n",
    "\n",
    "# menghitung misfit\n",
    "misfit = np.zeros(len(grid))\n",
    "for i in range(len(grid)):\n",
    "    misfit[i] = np.sqrt(np.mean((t_obs-f(xs, ys, grid[i,0], grid[i,1]))**2))\n",
    "    \n",
    "\n",
    "df = pd.DataFrame({'X': grid[:, 0], 'Y': grid[:, 1], 'Misfit': misfit})\n",
    "\n",
    "# for w in range(0, width+1, 5):\n",
    "#     for h in range(0, height+1, 5):\n",
    "#         plt.scatter(w,h, color='k', s=10)\n",
    "\n",
    "# plot\n",
    "plt.scatter(grid[:,0], grid[:,1], c=misfit, cmap='jet',s=10)\n",
    "plt.colorbar(label='RMSE')\n",
    "\n",
    "for i in range(len(xs)):\n",
    "    plt.scatter(xs[i], ys[i], color='k', marker='^', s=70)\n",
    "    plt.text(xs[i]+1, ys[i]+3, f\"{label[i]}\")\n",
    "\n",
    "plt.scatter(x0, y0, color='red', marker='*', s=150)\n",
    "\n",
    "plt.text(x0+1, y0+3, \"Episenter\")\n",
    "plt.xlim(1,70)\n",
    "plt.ylim(1,70)\n",
    "plt.show()"
   ]
  },
  {
   "cell_type": "code",
   "execution_count": 6,
   "id": "ab58c1cb",
   "metadata": {},
   "outputs": [
    {
     "data": {
      "text/html": [
       "<div>\n",
       "<style scoped>\n",
       "    .dataframe tbody tr th:only-of-type {\n",
       "        vertical-align: middle;\n",
       "    }\n",
       "\n",
       "    .dataframe tbody tr th {\n",
       "        vertical-align: top;\n",
       "    }\n",
       "\n",
       "    .dataframe thead th {\n",
       "        text-align: right;\n",
       "    }\n",
       "</style>\n",
       "<table border=\"1\" class=\"dataframe\">\n",
       "  <thead>\n",
       "    <tr style=\"text-align: right;\">\n",
       "      <th></th>\n",
       "      <th>X</th>\n",
       "      <th>Y</th>\n",
       "      <th>Misfit</th>\n",
       "    </tr>\n",
       "  </thead>\n",
       "  <tbody>\n",
       "    <tr>\n",
       "      <th>118</th>\n",
       "      <td>40</td>\n",
       "      <td>30</td>\n",
       "      <td>0.0</td>\n",
       "    </tr>\n",
       "  </tbody>\n",
       "</table>\n",
       "</div>"
      ],
      "text/plain": [
       "      X   Y  Misfit\n",
       "118  40  30     0.0"
      ]
     },
     "execution_count": 6,
     "metadata": {},
     "output_type": "execute_result"
    }
   ],
   "source": [
    "df[df.Misfit == df.Misfit.min()]"
   ]
  },
  {
   "cell_type": "code",
   "execution_count": null,
   "id": "20789509",
   "metadata": {},
   "outputs": [],
   "source": []
  }
 ],
 "metadata": {
  "kernelspec": {
   "display_name": "Python 3 (ipykernel)",
   "language": "python",
   "name": "python3"
  },
  "language_info": {
   "codemirror_mode": {
    "name": "ipython",
    "version": 3
   },
   "file_extension": ".py",
   "mimetype": "text/x-python",
   "name": "python",
   "nbconvert_exporter": "python",
   "pygments_lexer": "ipython3",
   "version": "3.9.5"
  }
 },
 "nbformat": 4,
 "nbformat_minor": 5
}
