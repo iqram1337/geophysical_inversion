{
 "cells": [
  {
   "cell_type": "code",
   "execution_count": 1,
   "id": "e8346abc",
   "metadata": {},
   "outputs": [],
   "source": [
    "import numpy as np\n",
    "import matplotlib.pyplot as plt\n",
    "import pandas as pd\n",
    "from ipywidgets import interact\n",
    "import ipywidgets as widgets"
   ]
  },
  {
   "cell_type": "code",
   "execution_count": 4,
   "id": "cc0d8655",
   "metadata": {},
   "outputs": [
    {
     "data": {
      "application/vnd.jupyter.widget-view+json": {
       "model_id": "709bca20bc1a40ff99525cd0df5c31c3",
       "version_major": 2,
       "version_minor": 0
      },
      "text/plain": [
       "interactive(children=(IntSlider(value=0, description='indeks', max=1), Output()), _dom_classes=('widget-intera…"
      ]
     },
     "metadata": {},
     "output_type": "display_data"
    }
   ],
   "source": [
    "@interact\n",
    "def interaktif(indeks=0):\n",
    "    # parameter model sintetik (koordinat hiposenter)\n",
    "    x0 = 1300\n",
    "    y0 = 2050\n",
    "    z0 = -1000\n",
    "\n",
    "    # parameter model sintetik (Vp dan T0)\n",
    "    t0 = 0\n",
    "    vp = 5.1 # (km/s)\n",
    "\n",
    "    # data koordinat titik stasiun\n",
    "    xs = np.array([700, 1250, 1200, 1350])\n",
    "    ys = np.array([2300, 2000, 1700, 1500])\n",
    "    zs = np.zeros(4)\n",
    "\n",
    "    # fungsi menghitung travel time\n",
    "    def travel_time(xhipo, yhipo, zhipo, xsi, ysi, zsi):\n",
    "        return t0 + (np.sqrt((xsi-xhipo)**2 + (ysi-yhipo)**2 + (zsi-zhipo)**2)/(vp))\n",
    "\n",
    "    # membuat t observasi\n",
    "    np.random.seed(10)\n",
    "    noise = np.random.normal(1, 0.4, len(xs))\n",
    "    t_obs = travel_time(x0, y0, z0, xs, ys, zs) + (noise)\n",
    "    \n",
    "    # model referensi\n",
    "    m_ref = [700, 1500, -700] # [x0,y0,z0]\n",
    "\n",
    "    iterasi = indeks\n",
    "    misfit = np.array([np.inf])\n",
    "    for i in range(iterasi):\n",
    "\n",
    "        # forward modelling\n",
    "        t_fm = travel_time(m_ref[0], m_ref[1], m_ref[2], xs, ys, zs)\n",
    "        delta_t = t_obs - t_fm\n",
    "\n",
    "        # menghitung error\n",
    "        rms = np.sqrt(np.mean((delta_t)**2))\n",
    "        misfit = np.append(misfit, rms)\n",
    "\n",
    "        if np.isclose(misfit[-1], misfit[i]) or misfit[i] == 0:\n",
    "            break\n",
    "        else:\n",
    "            # matrix jacobi\n",
    "            dtdx0 = (m_ref[0]-xs)/(vp*np.sqrt((m_ref[0]-xs)**2 + (m_ref[1]-ys)**2 + (m_ref[2]-zs)**2))\n",
    "            dtdy0 = (m_ref[1]-ys)/(vp*np.sqrt((m_ref[0]-xs)**2 + (m_ref[1]-ys)**2 + (m_ref[2]-zs)**2))\n",
    "            dtdz0 = (m_ref[2]-zs)/(vp*np.sqrt((m_ref[0]-xs)**2 + (m_ref[1]-ys)**2 + (m_ref[2]-zs)**2))\n",
    "            J = np.column_stack([dtdx0, dtdy0, dtdz0])\n",
    "\n",
    "            # inversi\n",
    "            m_calc = np.linalg.inv((J.T).dot(J)).dot(J.T).dot(delta_t)\n",
    "            m_ref = m_calc + m_ref\n",
    "            #print(m_ref)\n",
    "\n",
    "    fig = plt.figure(figsize=(9,9))\n",
    "    ax = plt.axes(projection='3d')\n",
    "    ax.scatter(x0, y0, z0, label=\"data observasi\", color=\"red\", marker=\"*\", s=100)\n",
    "    ax.scatter(m_ref[0], m_ref[1], m_ref[2], label=\"data kalkulasi\", color=\"blue\", s=70)\n",
    "    ax.scatter(xs[0], ys[0], zs[0], color=\"black\", marker=\"v\", s=100, label=\"stasiun\")\n",
    "    ax.scatter(xs[1], ys[1], zs[1], color=\"black\", marker=\"v\", s=100)\n",
    "    ax.scatter(xs[2], ys[2], zs[2], color=\"black\", marker=\"v\", s=100)\n",
    "    ax.scatter(xs[3], ys[3], zs[3], color=\"black\", marker=\"v\", s=100)\n",
    "    \n",
    "    ax.text(700,1500, 300, f\"iterasi: {indeks}\")\n",
    "    ax.text(700,1500, 200, f\"RMS: {np.round(misfit[indeks],2)}\")\n",
    "    ax.legend()\n",
    "    \n",
    "    ax.set_xlabel(\"x (meter)\")\n",
    "    ax.set_ylabel(\"y (meter)\")\n",
    "    ax.set_zlabel(\"z (meter)\")\n",
    "    ax.set_xlim([650, 1550])\n",
    "    ax.set_ylim([1450, 2250])\n",
    "    ax.set_zlim([-1500, 0])\n",
    "    ax.view_init(20, 20) \n",
    "    plt.show()"
   ]
  },
  {
   "cell_type": "code",
   "execution_count": 5,
   "id": "a84d63d1",
   "metadata": {},
   "outputs": [
    {
     "data": {
      "application/vnd.jupyter.widget-view+json": {
       "model_id": "e1861b40cc2a41d5b81d52688080a53d",
       "version_major": 2,
       "version_minor": 0
      },
      "text/plain": [
       "interactive(children=(Play(value=0, description='indeks', interval=1000, max=6), Output()), _dom_classes=('wid…"
      ]
     },
     "metadata": {},
     "output_type": "display_data"
    }
   ],
   "source": [
    "interact(interaktif, indeks=widgets.Play(min=0,max=6, interval=1000))\n",
    "plt.show()"
   ]
  },
  {
   "cell_type": "code",
   "execution_count": null,
   "id": "46dfbc52",
   "metadata": {},
   "outputs": [],
   "source": []
  }
 ],
 "metadata": {
  "kernelspec": {
   "display_name": "Python 3 (ipykernel)",
   "language": "python",
   "name": "python3"
  },
  "language_info": {
   "codemirror_mode": {
    "name": "ipython",
    "version": 3
   },
   "file_extension": ".py",
   "mimetype": "text/x-python",
   "name": "python",
   "nbconvert_exporter": "python",
   "pygments_lexer": "ipython3",
   "version": "3.9.5"
  }
 },
 "nbformat": 4,
 "nbformat_minor": 5
}
