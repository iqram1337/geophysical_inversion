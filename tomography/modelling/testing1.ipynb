{
 "cells": [
  {
   "cell_type": "code",
   "execution_count": 1,
   "id": "636f576d",
   "metadata": {},
   "outputs": [
    {
     "data": {
      "image/png": "[encoded data removed]",
      "text/plain": [
       "<Figure size 432x288 with 1 Axes>"
      ]
     },
     "metadata": {
      "needs_background": "light"
     },
     "output_type": "display_data"
    }
   ],
   "source": [
    "import pandas as pd\n",
    "import numpy as np\n",
    "import matplotlib.pyplot as plt\n",
    "import matplotlib.patches as patches\n",
    "import math\n",
    "from ipywidgets import interact\n",
    "import ipywidgets as widgets\n",
    "\n",
    "\n",
    "source = {'x': 0, 'y': 8}\n",
    "receiver = {'x': 10, 'y': 0}\n",
    "\n",
    "x0 = 0\n",
    "y0 = 0\n",
    "dx = 5\n",
    "dy = 10\n",
    "xgrid = np.arange(x0, 11, dx)\n",
    "ygrid = np.arange(y0, 11, dx)\n",
    "nx = len(xgrid) - 1\n",
    "ny = len(ygrid) - 1\n",
    "\n",
    "mesh_x, mesh_y = np.meshgrid(xgrid, ygrid)\n",
    "\n",
    "velocity = np.array([1000, 2000])\n",
    "velocityplot = np.tile(velocity, (2, 1))\n",
    "#velocityplot = np.hstack((velocityplot, velocityplot[:, -1:]))\n",
    "\n",
    "# Rat tracing shooting\n",
    "sudut_datang = np.arange(-45, 91, 0.1)\n",
    "bataslapisan_x = 5\n",
    "\n",
    "error_min = float('inf')\n",
    "raypath = {'x': [], 'y': []}\n",
    "\n",
    "\n",
    "for i in range(len(sudut_datang)):\n",
    "    dyy = np.tan(np.deg2rad(sudut_datang[i])) * dx\n",
    "    if source['y'] > receiver['y']:\n",
    "        bataslapisan_y = source['y'] - dyy\n",
    "    else:\n",
    "        bataslapisan_x = source['y'] + dyy\n",
    "\n",
    "    sudut_transmisi = np.sin(np.deg2rad(sudut_datang[i])) * velocity[1] / velocity[0]\n",
    "    dyy = np.tan(sudut_transmisi) * dx\n",
    "\n",
    "    if source['y'] > receiver['y']:\n",
    "        receiver_temp_y = source['y'] - dyy\n",
    "    else:\n",
    "        receiver_temp_y = source['y'] + dyy\n",
    "    error_dist = np.sqrt((receiver['x'] - receiver['x'])**2 + (receiver_temp_y - receiver['y'])**2)\n",
    "\n",
    "    if error_dist < error_min:\n",
    "        error_min = error_dist\n",
    "        raypath['x'] = [source['x'], bataslapisan_x, receiver['x']]\n",
    "        raypath['y'] = [source['y'], bataslapisan_y, receiver_temp_y]\n",
    "\n",
    "# Time calculation\n",
    "time_calculation = 0\n",
    "for i in range(len(raypath['x']) - 1):\n",
    "    time_calculation += np.sqrt((raypath['x'][i] - raypath['x'][i+1])**2 + (raypath['y'][i] - raypath['y'][i+1])**2) / velocity[i]\n",
    "\n",
    "# Visualisasi\n",
    "plt.pcolor(mesh_x, mesh_y, velocityplot)\n",
    "plt.plot(source['x'], source['y'], '*r', markersize=15)\n",
    "plt.plot(receiver['x'], receiver['y'], 'vb', markersize=15)\n",
    "plt.plot(raypath['x'], raypath['y'], 'c')\n",
    "\n",
    "#plt.xlim(-5,15)\n",
    "#plt.ylim(-5,15)\n",
    "plt.show()"
   ]
  },
  {
   "cell_type": "code",
   "execution_count": 2,
   "id": "876f5c25",
   "metadata": {},
   "outputs": [
    {
     "data": {
      "text/plain": [
       "0.009355318666201339"
      ]
     },
     "execution_count": 2,
     "metadata": {},
     "output_type": "execute_result"
    }
   ],
   "source": [
    "time_calculation"
   ]
  },
  {
   "cell_type": "code",
   "execution_count": null,
   "id": "9e541a9c",
   "metadata": {},
   "outputs": [],
   "source": []
  }
 ],
 "metadata": {
  "kernelspec": {
   "display_name": "Python 3 (ipykernel)",
   "language": "python",
   "name": "python3"
  },
  "language_info": {
   "codemirror_mode": {
    "name": "ipython",
    "version": 3
   },
   "file_extension": ".py",
   "mimetype": "text/x-python",
   "name": "python",
   "nbconvert_exporter": "python",
   "pygments_lexer": "ipython3",
   "version": "3.9.5"
  }
 },
 "nbformat": 4,
 "nbformat_minor": 5
}
