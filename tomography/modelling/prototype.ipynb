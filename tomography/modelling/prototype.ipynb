{
 "cells": [
  {
   "cell_type": "code",
   "execution_count": 1,
   "id": "7910ef6b",
   "metadata": {},
   "outputs": [],
   "source": [
    "import pandas as pd\n",
    "import numpy as np\n",
    "import matplotlib.pyplot as plt\n",
    "import matplotlib.patches as patches\n",
    "import math"
   ]
  },
  {
   "cell_type": "code",
   "execution_count": 2,
   "id": "0267bd73",
   "metadata": {},
   "outputs": [
    {
     "name": "stdout",
     "output_type": "stream",
     "text": [
      "[0, 1000, 2000] [-250, -461.41397531924974, -999.7655036914024]\n"
     ]
    },
    {
     "data": {
      "image/png": "[encoded data removed]",
      "text/plain": [
       "<Figure size 432x288 with 1 Axes>"
      ]
     },
     "metadata": {
      "needs_background": "light"
     },
     "output_type": "display_data"
    }
   ],
   "source": [
    "s1 = [0,-250] # meter\n",
    "s2 = [0,-633] # meter\n",
    "s3 = [1000, 0] # meter\n",
    "r1 = [2000, -1000] # meter\n",
    "\n",
    "\n",
    "t_obs11 = 3.020 # second\n",
    "t_obs21 = 2.896 # second\n",
    "t_obs31 = 1.139 # second\n",
    "\n",
    "raypath_x = np.zeros(3)\n",
    "raypath_y = np.zeros(3)\n",
    "error_min = float('inf')\n",
    "\n",
    "def panjang_raypath(s,r):\n",
    "    l_sr = np.sqrt((r[0] - s[0])**2 + (r[1] - s[1])**2) # meter\n",
    "    return l_sr\n",
    "\n",
    "l11 = panjang_raypath(s1,r1)\n",
    "l21 = panjang_raypath(s2,r1)\n",
    "l31 = panjang_raypath(s3,r1)\n",
    "\n",
    "# model referensi (V0) # m/s\n",
    "v0 = ((l11/t_obs11)+(l21/t_obs21)+(l31/t_obs31))/3\n",
    "\n",
    "# waktu tempuh kalkulasi (t_cal) # second\n",
    "t_cal11 = l11/v0\n",
    "t_cal21 = l21/v0\n",
    "t_cal31 = l31/v0\n",
    "\n",
    "# waktu tunda # (d_t) second\n",
    "d_t11 = t_obs11-t_cal11\n",
    "d_t21 = t_obs21-t_cal21\n",
    "d_t31 = t_obs31-t_cal31\n",
    "\n",
    "# persamaan matriks tomografi\n",
    "A = np.array([[l11/2, l11/2], [l21/2, l21/2], [0, l31]])\n",
    "d = np.array([d_t11, d_t21, d_t31])\n",
    "\n",
    "# X = (A^T A)^-1 A d\n",
    "X = (np.linalg.inv(np.transpose(A).dot(A)).dot(np.transpose(A))).dot(d)\n",
    "\n",
    "d_s1 = X[0]\n",
    "d_s2 = X[1]\n",
    "\n",
    "# V >>>\n",
    "d_v1 = (-d_s1*(v0**2))/(1+(d_s1*v0))\n",
    "d_v2 = (-d_s2*(v0**2))/(1+(d_s2*v0))\n",
    "\n",
    "v1 = v0+d_v1 # m/s\n",
    "v2 = v0+d_v2 # m/s\n",
    "velocity = np.array([v1, v2])\n",
    "\n",
    "# Ray tracing shooting\n",
    "sudut_datang = np.arange(0, 90, 0.01)\n",
    "bataslapisan_x = 1000\n",
    "\n",
    "dx=500\n",
    "for i in range(len(sudut_datang)):\n",
    "    dyy = np.tan(np.deg2rad(sudut_datang[i]))*dx\n",
    "\n",
    "    if s1[1] > r1[1]:\n",
    "        bataslapisan_y = s1[1] - dyy\n",
    "    else:\n",
    "        bataslapisan_x = s1[1] + dyy\n",
    "\n",
    "    sudut_transmisi = np.sin(np.deg2rad(sudut_datang[i])) * (v2 / v1)\n",
    "    dyy = np.tan(sudut_transmisi)*dx\n",
    "\n",
    "    if s1[1] > r1[1]:\n",
    "        receiver_temp_y = s1[1] - dyy\n",
    "    else:\n",
    "        receiver_temp_y = s1[1] + dyy\n",
    "    error_dist = np.sqrt((r1[0] - r1[0])**2 + (receiver_temp_y - r1[1])**2)\n",
    "\n",
    "    if error_dist < error_min:\n",
    "        error_min = error_dist\n",
    "        raypath_x = [s1[0], bataslapisan_x, r1[0]]\n",
    "        raypath_y = [s1[1], bataslapisan_y, receiver_temp_y]\n",
    "\n",
    "# Time calculation\n",
    "time_calculation = 0\n",
    "for i in range(len(raypath_x)-1):\n",
    "    time_calculation += np.sqrt((raypath_x[i] - raypath_x[i+1])**2 + (raypath_y[i] - raypath_y[i+1])**2) / velocity[i]\n",
    "    \n",
    "print(raypath_x,raypath_y)\n",
    "\n",
    "plt.plot(s1[0],s1[1], marker=\"*\", color=\"red\", markersize=15, markeredgecolor='black')\n",
    "plt.plot(r1[0],r1[1], marker=\"^\", color=\"red\", markersize=15, markeredgecolor='black')\n",
    "rectangle = patches.Rectangle((0, -1000), 2000, 1000, fc=\"none\", edgecolor='black', linewidth=2)\n",
    "plt.gca().add_patch(rectangle)\n",
    "\n",
    "plt.vlines(x=1000, ymin=-1000, ymax=0, color='black')\n",
    "\n",
    "plt.plot(raypath_x,raypath_y,'c')\n",
    "\n",
    "plt.xlim(-250, 2250)\n",
    "plt.ylim(-1250, 250)\n",
    "plt.show()"
   ]
  },
  {
   "cell_type": "code",
   "execution_count": 3,
   "id": "128dc917",
   "metadata": {},
   "outputs": [
    {
     "data": {
      "text/plain": [
       "1241.627359414482"
      ]
     },
     "execution_count": 3,
     "metadata": {},
     "output_type": "execute_result"
    }
   ],
   "source": [
    "v2"
   ]
  },
  {
   "cell_type": "code",
   "execution_count": 4,
   "id": "7362246a",
   "metadata": {},
   "outputs": [
    {
     "name": "stdout",
     "output_type": "stream",
     "text": [
      "0.24253562503633297\n"
     ]
    },
    {
     "data": {
      "image/png": "[encoded data removed]",
      "text/plain": [
       "<Figure size 432x288 with 1 Axes>"
      ]
     },
     "metadata": {
      "needs_background": "light"
     },
     "output_type": "display_data"
    }
   ],
   "source": [
    "titik_gerak = [1000, -500]\n",
    "\n",
    "# Hitung panjang sisi tegak (y)\n",
    "y = abs(titik_gerak[1] - s1[1])\n",
    "\n",
    "# Hitung panjang sisi miring (hypotenuse)\n",
    "hypotenuse = math.sqrt((titik_gerak[0] - s1[0])**2 + (titik_gerak[1] - s1[1])**2)\n",
    "\n",
    "# Hitung sin(theta)\n",
    "sin_theta = y / hypotenuse\n",
    "print(sin_theta)\n",
    "# Sin(theta) dari perhitungan sebelumnya\n",
    "\n",
    "# Hitung sin(theta2) sesuai dengan hukum Snellius\n",
    "sin_theta2 = (v2 / v1) * -sin_theta\n",
    "\n",
    "# Hitung panjang sisi tegak (y2)\n",
    "y2 = sin_theta2 * hypotenuse\n",
    "\n",
    "# Hitung titik koordinat y baru (titik_gerak2[1])\n",
    "titik_gerak2 = [2000, s1[1] + y2]\n",
    "\n",
    "eror = abs(r1[1] - titik_gerak2[1])\n",
    "\n",
    "#################################################################################################\n",
    "plt.plot(s1[0],s1[1], marker=\"*\", color=\"red\", markersize=15, markeredgecolor='black')\n",
    "plt.plot(r1[0],r1[1], marker=\"^\", color=\"red\", markersize=15, markeredgecolor='black')\n",
    "plt.plot(titik_gerak[0],titik_gerak[0])\n",
    "\n",
    "\n",
    "plt.annotate(\"S1\", xy=[s1[0]-150, s1[1]])\n",
    "plt.annotate(\"R1\", xy=[r1[0]+50, r1[1]])\n",
    "\n",
    "plt.plot([s1[0],r1[0]], [s1[1],r1[1]])\n",
    "plt.plot([s1[0],titik_gerak[0]], [s1[1],titik_gerak[1]])\n",
    "\n",
    "plt.plot([titik_gerak[0],titik_gerak2[0]], [titik_gerak[1],titik_gerak2[1]])\n",
    "\n",
    "plt.annotate(\"V$_1$\", xy=[500, -200], size=15)\n",
    "plt.annotate(\"V$_2$\", xy=[1500, -200], size=15)\n",
    "plt.annotate(f\"rms= {np.round(eror,2)}\", xy=[500, -1100])\n",
    "\n",
    "rectangle = patches.Rectangle((0, -1000), 2000, 1000, fc=\"none\", edgecolor='black', linewidth=2)\n",
    "plt.gca().add_patch(rectangle)\n",
    "\n",
    "plt.vlines(x=1000, ymin=-1000, ymax=0, color='black')\n",
    "\n",
    "plt.xlim(-250, 2250)\n",
    "plt.ylim(-1250, 250)\n",
    "plt.title(\"Snell's Law | Tomography Ray Tracing\")\n",
    "\n",
    "plt.show()"
   ]
  },
  {
   "cell_type": "code",
   "execution_count": null,
   "id": "ec89702e",
   "metadata": {},
   "outputs": [],
   "source": []
  }
 ],
 "metadata": {
  "kernelspec": {
   "display_name": "Python 3 (ipykernel)",
   "language": "python",
   "name": "python3"
  },
  "language_info": {
   "codemirror_mode": {
    "name": "ipython",
    "version": 3
   },
   "file_extension": ".py",
   "mimetype": "text/x-python",
   "name": "python",
   "nbconvert_exporter": "python",
   "pygments_lexer": "ipython3",
   "version": "3.9.5"
  }
 },
 "nbformat": 4,
 "nbformat_minor": 5
}
