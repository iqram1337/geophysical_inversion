{
 "cells": [
  {
   "cell_type": "code",
   "execution_count": 1,
   "id": "f6017a87",
   "metadata": {},
   "outputs": [],
   "source": [
    "import numpy as np\n",
    "import matplotlib.pyplot as plt\n",
    "import pandas as pd\n",
    "from ipywidgets import interact\n",
    "plt.style.use('fivethirtyeight')"
   ]
  },
  {
   "cell_type": "code",
   "execution_count": 2,
   "id": "73c41874",
   "metadata": {},
   "outputs": [
    {
     "data": {
      "application/vnd.jupyter.widget-view+json": {
       "model_id": "56f37619c1464ad7a754f64c6ebdf110",
       "version_major": 2,
       "version_minor": 0
      },
      "text/plain": [
       "interactive(children=(IntSlider(value=0, description='sx', max=1), IntSlider(value=200, description='sy', max=…"
      ]
     },
     "metadata": {},
     "output_type": "display_data"
    }
   ],
   "source": [
    "@interact\n",
    "def interaktif(sx=0,sy=200, rx=1000,ry=200):\n",
    "\n",
    "    s1 = [0,750]\n",
    "    s2 = [sx,sy] #[0, 200]\n",
    "    r1 = [1000, 900]\n",
    "    r2 = [rx,ry] #[1000, 200]\n",
    "\n",
    "    def persamaan_tomografi(s, r):\n",
    "        jarak = np.sqrt((r[0] - s[0])**2 + (r[1] - s[1])**2)\n",
    "\n",
    "        a = np.zeros(1000)\n",
    "        a[0] = s[0]\n",
    "        b = np.zeros(1000)\n",
    "        b[0] = s[1]\n",
    "\n",
    "        koordinat = []\n",
    "        koordinat.append([a[0],b[0]])\n",
    "\n",
    "        kotak = set()\n",
    "        for i in range(1,1000):\n",
    "            a[i] = a[i-1] - ((s[0]-r[0])/999)\n",
    "            b[i] = b[i-1]- ((s[1]-r[1])/999)\n",
    "            koordinat.append([a[i], b[i]])\n",
    "\n",
    "\n",
    "            if a[i] < 500 and b[i] > 500:\n",
    "                kotak.add(r\"l1 $\\frac{1}{v_1}$\")\n",
    "\n",
    "            elif a[i] > 500 and b[i] > 500:\n",
    "                kotak.add(r\"l2 $\\frac{1}{v_2}$\")\n",
    "\n",
    "            elif a[i] < 500 and b[i] < 500:\n",
    "                kotak.add(r\"l3 $\\frac{1}{v_3}$\")\n",
    "\n",
    "            elif a[i] > 500 and b[i] < 500:\n",
    "                kotak.add(r\"l4 $\\frac{1}{v_4}$\")\n",
    "\n",
    "        urutan_angka = {r\"l1 $\\frac{1}{v_1}$\": 1, r\"l2 $\\frac{1}{v_2}$\": 2, r\"l3 $\\frac{1}{v_3}$\": 3, r\"l4 $\\frac{1}{v_4}$\": 4}\n",
    "        kotak_urut = sorted(kotak, key=lambda x: urutan_angka[x])\n",
    "\n",
    "        return (f\" + \".join(kotak_urut),jarak)\n",
    "\n",
    "\n",
    "    fx,jarak =  persamaan_tomografi(s2,r2)\n",
    "    #print(jarak1)\n",
    "\n",
    "    plt.figure(figsize=(6,6))\n",
    "    ax1 = plt.plot([0 for i in range(1000)], np.arange(0,1000), 'black')\n",
    "    ax2 = plt.plot(np.arange(0,1000), [0 for i in range(1000)], 'black')\n",
    "    ax3 = plt.plot([1000 for i in range(1000)], np.arange(0,1000), 'black')\n",
    "    ax4 = plt.plot(np.arange(0,1000), [1000 for i in range(1000)], 'black')\n",
    "    ax_hor = plt.plot([500 for i in range(1000)], np.arange(0,1000), 'black')\n",
    "    ax_ver = plt.plot(np.arange(0,1000), [500 for i in range(1000)], 'black')\n",
    "\n",
    "    #s1_plot = plt.plot(s1[0], s1[1], marker=\"*\", markersize=15, color=\"red\")\n",
    "    s2_plot = plt.plot(s2[0], s2[1], marker=\"*\", markersize=15, color=\"red\")\n",
    "    #r1_plot = plt.plot(r1[0], r1[1], marker=\"^\", markersize=15, color=\"red\")\n",
    "    r2_plot = plt.plot(r2[0], r2[1], marker=\"^\", markersize=15, color=\"red\")\n",
    "\n",
    "    #plt.annotate(\"S1\", xy=[s1[0]-60, s1[1]+20])\n",
    "    plt.annotate(\"S2\", xy=[s2[0]-60, s2[1]+20])\n",
    "   # plt.annotate(\"R1\", xy=[r1[0]+40, r1[1]])\n",
    "    plt.annotate(\"R2\", xy=[r2[0]+40, r2[1]])\n",
    "    plt.annotate(\"V$_1$\", xy=[200, 900],size=12)\n",
    "    plt.annotate(\"V$_2$\", xy=[800, 900],size=12)\n",
    "    plt.annotate(\"V$_3$\", xy=[200, 400],size=12)\n",
    "    plt.annotate(\"V$_4$\", xy=[800, 400],size=12)\n",
    "    plt.annotate(f\"Ts2r2 = {fx}\", xy=[0, 1050],size=15)\n",
    "    plt.annotate(f\"panjang lintasan = {np.round(jarak,2)}m\", xy=[0, -100],size=12)\n",
    "\n",
    "    #plt.plot([s1[0],r1[0]], [s1[1],r1[1]])\n",
    "    #plt.plot([s1[0],r2[0]], [s1[1],r2[1]])\n",
    "    #plt.plot([s2[0],r1[0]], [s2[1],r1[1]])\n",
    "    plt.plot([s2[0],r2[0]], [s2[1],r2[1]], linewidth=2)\n",
    "\n",
    "    plt.ylim([-200, 1200])\n",
    "    plt.xlim([-200, 1200])\n",
    "    plt.show()"
   ]
  },
  {
   "cell_type": "code",
   "execution_count": 3,
   "id": "911997a5",
   "metadata": {},
   "outputs": [
    {
     "data": {
      "application/vnd.jupyter.widget-view+json": {
       "model_id": "4ee609cb7c3142a9a89b6f9742ed6b8d",
       "version_major": 2,
       "version_minor": 0
      },
      "text/plain": [
       "interactive(children=(IntSlider(value=0, description='sx', max=1000), IntSlider(value=200, description='sy', m…"
      ]
     },
     "metadata": {},
     "output_type": "display_data"
    }
   ],
   "source": [
    "interact(interaktif,sx=(0,1000,1) ,sy=(0,1000,1), rx=(0,1000,1), ry=(0,1000,1))\n",
    "plt.show()"
   ]
  },
  {
   "cell_type": "code",
   "execution_count": null,
   "id": "2a9e7747",
   "metadata": {},
   "outputs": [],
   "source": []
  }
 ],
 "metadata": {
  "kernelspec": {
   "display_name": "Python 3 (ipykernel)",
   "language": "python",
   "name": "python3"
  },
  "language_info": {
   "codemirror_mode": {
    "name": "ipython",
    "version": 3
   },
   "file_extension": ".py",
   "mimetype": "text/x-python",
   "name": "python",
   "nbconvert_exporter": "python",
   "pygments_lexer": "ipython3",
   "version": "3.9.5"
  }
 },
 "nbformat": 4,
 "nbformat_minor": 5
}
