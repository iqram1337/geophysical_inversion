{
 "cells": [
  {
   "cell_type": "code",
   "execution_count": 1,
   "id": "43bbe575",
   "metadata": {},
   "outputs": [],
   "source": [
    "import pandas as pd\n",
    "import numpy as np\n",
    "import matplotlib.pyplot as plt\n",
    "import matplotlib.patches as patches\n",
    "import math\n",
    "from ipywidgets import interact\n",
    "import ipywidgets as widgets"
   ]
  },
  {
   "cell_type": "code",
   "execution_count": 2,
   "id": "93c3afd6",
   "metadata": {},
   "outputs": [
    {
     "data": {
      "application/vnd.jupyter.widget-view+json": {
       "model_id": "b075abe6e8584bba91ced047c5b88810",
       "version_major": 2,
       "version_minor": 0
      },
      "text/plain": [
       "interactive(children=(IntSlider(value=0, description='y_gerak', max=1), Output()), _dom_classes=('widget-inter…"
      ]
     },
     "metadata": {},
     "output_type": "display_data"
    }
   ],
   "source": [
    "@interact\n",
    "def prototype(y_gerak=0):\n",
    "    s1 = [0,-250] # meter\n",
    "    s2 = [0,-633] # meter\n",
    "    s3 = [1000, 0] # meter\n",
    "    r1 = [2000, -1000] # meter\n",
    "\n",
    "    t_obs11 = 3.020 # second\n",
    "    t_obs21 = 2.896 # second\n",
    "    t_obs31 = 1.139 # second\n",
    "\n",
    "    titik_gerak = [1000, y_gerak*-1]\n",
    "\n",
    "    # Hitung panjang sisi tegak (y)\n",
    "    y = abs(titik_gerak[1] - s1[1])\n",
    "\n",
    "    # Hitung panjang sisi miring (hypotenuse)\n",
    "    hypotenuse = math.sqrt((titik_gerak[0] - s1[0])**2 + (titik_gerak[1] - s1[1])**2)\n",
    "\n",
    "    # Hitung sin(theta)\n",
    "    sin_theta = y / hypotenuse\n",
    "\n",
    "    # Diberikan data\n",
    "    v1 = 492.0841253812227\n",
    "    v2 = 1241.627359414482\n",
    "\n",
    "    # Sin(theta) dari perhitungan sebelumnya\n",
    "    #sin_theta = 0.48  # Ganti dengan nilai sin(theta) yang sudah dihitung sebelumnya\n",
    "\n",
    "    # Hitung sin(theta2) sesuai dengan hukum Snellius\n",
    "    sin_theta2 = (v2 / v1) * -sin_theta\n",
    "\n",
    "    # Hitung panjang sisi tegak (y2)\n",
    "    y2 = sin_theta2 * hypotenuse\n",
    "\n",
    "    # Hitung titik koordinat y baru (titik_gerak2[1])\n",
    "    titik_gerak2 = [2000, s1[1] + y2]\n",
    "    \n",
    "    eror = abs(r1[1] - titik_gerak2[1])\n",
    "\n",
    "    #################################################################################################\n",
    "    plt.plot(s1[0],s1[1], marker=\"*\", color=\"red\", markersize=15, markeredgecolor='black')\n",
    "    plt.plot(r1[0],r1[1], marker=\"^\", color=\"red\", markersize=15, markeredgecolor='black')\n",
    "    plt.plot(titik_gerak[0],titik_gerak[0])\n",
    "\n",
    "\n",
    "    plt.annotate(\"S1\", xy=[s1[0]-150, s1[1]])\n",
    "    plt.annotate(\"R1\", xy=[r1[0]+50, r1[1]])\n",
    "\n",
    "    plt.plot([s1[0],r1[0]], [s1[1],r1[1]])\n",
    "    plt.plot([s1[0],titik_gerak[0]], [s1[1],titik_gerak[1]])\n",
    "\n",
    "    plt.plot([titik_gerak[0],titik_gerak2[0]], [titik_gerak[1],titik_gerak2[1]])\n",
    "\n",
    "    plt.annotate(\"V$_1$\", xy=[500, -200], size=15)\n",
    "    plt.annotate(\"V$_2$\", xy=[1500, -200], size=15)\n",
    "    plt.annotate(f\"rms= {np.round(eror,2)}\", xy=[500, -1100])\n",
    "\n",
    "    rectangle = patches.Rectangle((0, -1000), 2000, 1000, fc=\"none\", edgecolor='black', linewidth=2)\n",
    "    plt.gca().add_patch(rectangle)\n",
    "\n",
    "    plt.vlines(x=1000, ymin=-1000, ymax=0, color='black')\n",
    "\n",
    "    plt.xlim(-250, 2250)\n",
    "    plt.ylim(-1250, 250)\n",
    "    plt.title(\"Snell's Law | Tomography Ray Tracing\")\n",
    "\n",
    "    plt.show()"
   ]
  },
  {
   "cell_type": "code",
   "execution_count": 3,
   "id": "f76e3737",
   "metadata": {},
   "outputs": [
    {
     "data": {
      "application/vnd.jupyter.widget-view+json": {
       "model_id": "d09de168342d4d0ba72c8329cbd6ecae",
       "version_major": 2,
       "version_minor": 0
      },
      "text/plain": [
       "interactive(children=(Play(value=0, description='y_gerak', interval=20, max=550), Output()), _dom_classes=('wi…"
      ]
     },
     "metadata": {},
     "output_type": "display_data"
    }
   ],
   "source": [
    "interact(prototype, y_gerak=widgets.Play(min=0,max=550,interval=20))\n",
    "plt.show()"
   ]
  },
  {
   "cell_type": "code",
   "execution_count": null,
   "id": "dc122bf7",
   "metadata": {},
   "outputs": [],
   "source": []
  }
 ],
 "metadata": {
  "kernelspec": {
   "display_name": "Python 3 (ipykernel)",
   "language": "python",
   "name": "python3"
  },
  "language_info": {
   "codemirror_mode": {
    "name": "ipython",
    "version": 3
   },
   "file_extension": ".py",
   "mimetype": "text/x-python",
   "name": "python",
   "nbconvert_exporter": "python",
   "pygments_lexer": "ipython3",
   "version": "3.9.5"
  }
 },
 "nbformat": 4,
 "nbformat_minor": 5
}
