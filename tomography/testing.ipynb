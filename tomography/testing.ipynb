{
 "cells": [
  {
   "cell_type": "code",
   "execution_count": 1,
   "id": "2ab004d6",
   "metadata": {},
   "outputs": [],
   "source": [
    "import pandas as pd\n",
    "import numpy as np"
   ]
  },
  {
   "cell_type": "code",
   "execution_count": 2,
   "id": "c95b0c13",
   "metadata": {},
   "outputs": [
    {
     "data": {
      "text/plain": [
       "array([[100.        , 100.        ,   0.        ,   0.        ],\n",
       "       [  0.        ,   0.        , 100.        , 100.        ],\n",
       "       [141.42135624,   0.        ,   0.        , 141.42135624],\n",
       "       [  0.        , 100.        ,   0.        , 100.        ],\n",
       "       [100.        ,   0.        , 100.        ,   0.        ]])"
      ]
     },
     "execution_count": 2,
     "metadata": {},
     "output_type": "execute_result"
    }
   ],
   "source": [
    "# matriks kernel\n",
    "G = np.zeros((5,4))\n",
    "G[0,0] = G[0,1] = 100\n",
    "G[1,2] = G[1,3] = 100\n",
    "G[2,0] = G[2,3] = 100*np.sqrt(2)\n",
    "G[3,1] = G[3,3] = 100\n",
    "G[4,0] = G[4,2] = 100\n",
    "G # meter"
   ]
  },
  {
   "cell_type": "code",
   "execution_count": 3,
   "id": "295a28ec",
   "metadata": {},
   "outputs": [],
   "source": [
    "# kecepatan seismik diketahui, untuk 4 blok secara berurutan\n",
    "v_obs = np.array([1000,1000,1000,2000]) # m/s"
   ]
  },
  {
   "cell_type": "code",
   "execution_count": 4,
   "id": "438c1ac9",
   "metadata": {},
   "outputs": [],
   "source": [
    "# forward modelling untuk menghasilkan waktu tempuh observasi\n",
    "t_obs = G.dot(1/v_obs)"
   ]
  },
  {
   "cell_type": "code",
   "execution_count": 5,
   "id": "7e9e9075",
   "metadata": {},
   "outputs": [
    {
     "data": {
      "text/plain": [
       "array([1000., 1000., 1000., 2000.])"
      ]
     },
     "execution_count": 5,
     "metadata": {},
     "output_type": "execute_result"
    }
   ],
   "source": [
    "# inversi\n",
    "s_calc = np.linalg.inv((G.T).dot(G)).dot(G.T).dot(t_obs)\n",
    "v_calc = 1/s_calc\n",
    "v_calc"
   ]
  },
  {
   "cell_type": "code",
   "execution_count": 6,
   "id": "3ba5587b",
   "metadata": {},
   "outputs": [
    {
     "data": {
      "text/plain": [
       "array([1076.79113552, 1053.66884196,  666.86014872, 2035.89192647])"
      ]
     },
     "execution_count": 6,
     "metadata": {},
     "output_type": "execute_result"
    }
   ],
   "source": [
    "# waktu tempuh observasi 2\n",
    "t_obs2 = np.array([0.1783, 0.1896, 0.2008, 0.1535, 0.2523])\n",
    "\n",
    "# inversi ke-2\n",
    "s_calc2 = np.linalg.inv((G.T).dot(G)).dot(G.T).dot(t_obs2)\n",
    "v_calc2 = 1/s_calc2\n",
    "v_calc2"
   ]
  },
  {
   "cell_type": "code",
   "execution_count": 7,
   "id": "eefef802",
   "metadata": {},
   "outputs": [
    {
     "data": {
      "text/plain": [
       "0.008474697634724212"
      ]
     },
     "execution_count": 7,
     "metadata": {},
     "output_type": "execute_result"
    }
   ],
   "source": [
    "# rmse\n",
    "e = t_obs2 - G.dot(s_calc2)\n",
    "rmse = np.sqrt(e.T.dot(e)/5)\n",
    "rmse # s"
   ]
  },
  {
   "cell_type": "code",
   "execution_count": 8,
   "id": "276f601e",
   "metadata": {},
   "outputs": [
    {
     "data": {
      "text/plain": [
       "0.008474697634724212"
      ]
     },
     "execution_count": 8,
     "metadata": {},
     "output_type": "execute_result"
    }
   ],
   "source": [
    "rms = np.sqrt(np.sum((t_obs2 - G.dot(s_calc2))**2)/5)\n",
    "rms"
   ]
  },
  {
   "cell_type": "code",
   "execution_count": null,
   "id": "408edf6e",
   "metadata": {},
   "outputs": [],
   "source": []
  }
 ],
 "metadata": {
  "kernelspec": {
   "display_name": "Python 3 (ipykernel)",
   "language": "python",
   "name": "python3"
  },
  "language_info": {
   "codemirror_mode": {
    "name": "ipython",
    "version": 3
   },
   "file_extension": ".py",
   "mimetype": "text/x-python",
   "name": "python",
   "nbconvert_exporter": "python",
   "pygments_lexer": "ipython3",
   "version": "3.9.5"
  }
 },
 "nbformat": 4,
 "nbformat_minor": 5
}
