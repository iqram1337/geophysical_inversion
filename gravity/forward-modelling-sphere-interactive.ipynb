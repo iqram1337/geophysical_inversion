{
 "cells": [
  {
   "cell_type": "code",
   "execution_count": 1,
   "id": "f69070db",
   "metadata": {},
   "outputs": [],
   "source": [
    "import matplotlib.pyplot as plt\n",
    "import numpy as np\n",
    "from scipy import signal\n",
    "from ipywidgets import interact\n",
    "import warnings\n",
    "%matplotlib inline\n",
    "\n",
    "# load data observasi / data lapangan\n",
    "d_obs = np.loadtxt(\"DataGravityLapanganJumatLatihan.txt\")\n",
    "\n",
    "# membuat variabel baru\n",
    "xData = d_obs[:,0]\n",
    "gData = d_obs[:,1]\n",
    "\n",
    "rng = np.random.default_rng()\n",
    "noise = 0.005\n",
    "\n",
    "gData = gData + noise*rng.normal(size=21)"
   ]
  },
  {
   "cell_type": "code",
   "execution_count": 2,
   "id": "343de1de",
   "metadata": {},
   "outputs": [
    {
     "data": {
      "application/vnd.jupyter.widget-view+json": {
       "model_id": "db78a8a8348a48b49f50affd5cf58cb2",
       "version_major": 2,
       "version_minor": 0
      },
      "text/plain": [
       "interactive(children=(FloatSlider(value=2.67, description='rho', max=8.01, min=-2.67), IntSlider(value=20, des…"
      ]
     },
     "metadata": {},
     "output_type": "display_data"
    }
   ],
   "source": [
    "@interact\n",
    "def testing(rho=2.67, jari=20, zSource=47, xSource=200):\n",
    "    # input paramater\n",
    "    rho = rho # gr/cc\n",
    "    jari = jari # meter\n",
    "    zSource = zSource # meter\n",
    "    xSource = xSource # meter\n",
    "\n",
    "    # properti stasiun\n",
    "    x0 = 0 # meter\n",
    "    xn = np.max(xData) # meter\n",
    "    nx = xn / len(xData) + 1 # meter\n",
    "\n",
    "    def gravsphere(rho, jari, zSource, xSource, x):\n",
    "        G = 6.67e-11 # konstanta gravitasi universal, SI\n",
    "        gravity = G*rho*(4/3)*np.pi*(jari**3)*(zSource/(zSource**2 + (xSource-x)**2)**(3/2))*1e8\n",
    "\n",
    "        return gravity\n",
    "\n",
    "    n = len(xData)\n",
    "\n",
    "    xStasiun = np.zeros(n)\n",
    "    gz = np.zeros(n)\n",
    "    x = np.zeros(n)\n",
    "\n",
    "    for i in range(n):\n",
    "        x = (i) * nx\n",
    "        xStasiun[i] = (i) * nx\n",
    "        gz[i] = gravsphere(rho, jari, zSource, xSource, x)\n",
    "\n",
    "    # menghitung misfit\n",
    "    misfit = round(np.sum((gData-gz)**2),4)\n",
    "\n",
    "    ## plot anomaly respons\n",
    "    plt.figure(figsize=(8,8))\n",
    "    plt.subplot(2,1,1)\n",
    "    plt.plot(xStasiun, gz, 'ro')\n",
    "    plt.plot(xData, gData, 'b-')\n",
    "    plt.ylabel(\"gravity anomaly (mGal)\")\n",
    "    plt.xlim(0,500)\n",
    "    plt.ylim(0,0.3)\n",
    "    plt.grid()\n",
    "    plt.legend(['calculated', 'observation'])\n",
    "    plt.title(\"Forward Modelling Gravity (Sphere)\")\n",
    "    plt.text(400,0.15, f\"misfit: {misfit}\",bbox = dict(facecolor = 'white'))\n",
    "\n",
    "    q = np.linspace(0,2*np.pi,500)\n",
    "    plt.subplot(2,1,2)\n",
    "    xSphere = jari*np.cos(q)+xSource\n",
    "    zSphere = jari*np.sin(q)-zSource\n",
    "    plt.ylabel(\"depth (m)\")\n",
    "    plt.xlim(0,500)\n",
    "    plt.ylim(-150,75)\n",
    "    plt.xlabel(\"distance (m)\")\n",
    "    plt.fill(xSphere, zSphere, 'r')\n",
    "    plt.grid()\n",
    "    plt.text(xSource+30,-zSource, f\"densitas: {rho} gr/cc\",bbox = dict(facecolor = 'white'))\n",
    "    plt.show()"
   ]
  },
  {
   "cell_type": "code",
   "execution_count": null,
   "id": "01ac631c",
   "metadata": {},
   "outputs": [],
   "source": []
  }
 ],
 "metadata": {
  "kernelspec": {
   "display_name": "Python 3 (ipykernel)",
   "language": "python",
   "name": "python3"
  },
  "language_info": {
   "codemirror_mode": {
    "name": "ipython",
    "version": 3
   },
   "file_extension": ".py",
   "mimetype": "text/x-python",
   "name": "python",
   "nbconvert_exporter": "python",
   "pygments_lexer": "ipython3",
   "version": "3.9.5"
  }
 },
 "nbformat": 4,
 "nbformat_minor": 5
}
