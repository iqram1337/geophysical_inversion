{
 "cells": [
  {
   "cell_type": "markdown",
   "metadata": {},
   "source": [
    "\n",
    "# Forward Simulation of Gravity Anomaly Data on a Tensor Mesh\n",
    "\n",
    "Here we use the module *SimPEG.potential_fields.gravity* to predict gravity\n",
    "anomaly data for a synthetic density contrast model. The simulation is\n",
    "carried out on a tensor mesh. For this tutorial, we focus on the following:\n",
    "\n",
    "    - How to create gravity surveys\n",
    "    - How to predict gravity anomaly data for a density contrast model\n",
    "    - How to include surface topography\n",
    "    - The units of the density contrast model and resulting data\n"
   ]
  },
  {
   "cell_type": "markdown",
   "metadata": {},
   "source": [
    "## Import Modules\n",
    "\n",
    "\n"
   ]
  },
  {
   "cell_type": "code",
   "execution_count": 1,
   "metadata": {},
   "outputs": [],
   "source": [
    "import numpy as np\n",
    "from scipy.interpolate import LinearNDInterpolator\n",
    "import matplotlib as mpl\n",
    "import matplotlib.pyplot as plt\n",
    "import os\n",
    "\n",
    "from discretize import TensorMesh\n",
    "from discretize.utils import mkvc, active_from_xyz\n",
    "\n",
    "from SimPEG.utils import plot2Ddata, model_builder\n",
    "from SimPEG import maps\n",
    "from SimPEG.potential_fields import gravity\n",
    "\n",
    "save_output = False\n",
    "\n",
    "# sphinx_gallery_thumbnail_number = 2"
   ]
  },
  {
   "cell_type": "markdown",
   "metadata": {},
   "source": [
    "## Defining Topography\n",
    "\n",
    "Surface topography is defined as an (N, 3) numpy array. We create it here but\n",
    "the topography could also be loaded from a file.\n",
    "\n",
    "\n"
   ]
  },
  {
   "cell_type": "code",
   "execution_count": 2,
   "metadata": {},
   "outputs": [],
   "source": [
    "[x_topo, y_topo] = np.meshgrid(np.linspace(-200, 200, 41), np.linspace(-200, 200, 41))\n",
    "z_topo = -15 * np.exp(-(x_topo**2 + y_topo**2) / 80**2)\n",
    "x_topo, y_topo, z_topo = mkvc(x_topo), mkvc(y_topo), mkvc(z_topo)\n",
    "topo_xyz = np.c_[x_topo, y_topo, z_topo]"
   ]
  },
  {
   "cell_type": "markdown",
   "metadata": {},
   "source": [
    "## Defining the Survey\n",
    "\n",
    "Here, we define survey that will be used for the forward simulation. Gravity\n",
    "surveys are simple to create. The user only needs an (N, 3) array to define\n",
    "the xyz locations of the observation locations, and a list of field components\n",
    "which are to be measured.\n",
    "\n",
    "\n"
   ]
  },
  {
   "cell_type": "code",
   "execution_count": 3,
   "metadata": {},
   "outputs": [],
   "source": [
    "# Define the observation locations as an (N, 3) numpy array or load them.\n",
    "x = np.linspace(-80.0, 80.0, 17)\n",
    "y = np.linspace(-80.0, 80.0, 17)\n",
    "x, y = np.meshgrid(x, y)\n",
    "x, y = mkvc(x.T), mkvc(y.T)\n",
    "fun_interp = LinearNDInterpolator(np.c_[x_topo, y_topo], z_topo)\n",
    "z = fun_interp(np.c_[x, y]) + 5.0\n",
    "receiver_locations = np.c_[x, y, z]\n",
    "\n",
    "# Define the component(s) of the field we want to simulate as strings within\n",
    "# a list. Here we simulate only the vertical component of gravity anomaly.\n",
    "components = [\"gz\"]\n",
    "\n",
    "# Use the observation locations and components to define the receivers. To\n",
    "# simulate data, the receivers must be defined as a list.\n",
    "receiver_list = gravity.receivers.Point(receiver_locations, components=components)\n",
    "\n",
    "receiver_list = [receiver_list]\n",
    "\n",
    "# Defining the source field.\n",
    "source_field = gravity.sources.SourceField(receiver_list=receiver_list)\n",
    "\n",
    "# Defining the survey\n",
    "survey = gravity.survey.Survey(source_field)"
   ]
  },
  {
   "cell_type": "markdown",
   "metadata": {},
   "source": [
    "## Defining a Tensor Mesh\n",
    "\n",
    "Here, we create the tensor mesh that will be used to predict gravity anomaly\n",
    "data.\n",
    "\n",
    "\n"
   ]
  },
  {
   "cell_type": "code",
   "execution_count": 4,
   "metadata": {},
   "outputs": [],
   "source": [
    "dh = 5.0\n",
    "hx = [(dh, 5, -1.3), (dh, 40), (dh, 5, 1.3)]\n",
    "hy = [(dh, 5, -1.3), (dh, 40), (dh, 5, 1.3)]\n",
    "hz = [(dh, 5, -1.3), (dh, 15)]\n",
    "mesh = TensorMesh([hx, hy, hz], \"CCN\")"
   ]
  },
  {
   "cell_type": "markdown",
   "metadata": {},
   "source": [
    "## Density Contrast Model and Mapping on Tensor Mesh\n",
    "\n",
    "Here, we create the density contrast model that will be used to predict\n",
    "gravity anomaly data and the mapping from the model to the mesh. The model\n",
    "consists of a less dense block and a more dense sphere.\n",
    "\n",
    "\n"
   ]
  },
  {
   "cell_type": "code",
   "execution_count": 8,
   "metadata": {},
   "outputs": [
    {
     "data": {
      "image/png": "[encoded data removed]",
      "text/plain": [
       "<Figure size 648x288 with 2 Axes>"
      ]
     },
     "metadata": {
      "needs_background": "light"
     },
     "output_type": "display_data"
    }
   ],
   "source": [
    "# Define density contrast values for each unit in g/cc\n",
    "background_density = 0.0\n",
    "block_density = -0.2\n",
    "sphere_density = 0.2\n",
    "\n",
    "# Find the indices for the active mesh cells (e.g. cells below surface)\n",
    "ind_active = active_from_xyz(mesh, topo_xyz)\n",
    "\n",
    "# Define mapping from model to active cells. The model consists of a value for\n",
    "# each cell below the Earth's surface.\n",
    "nC = int(ind_active.sum())\n",
    "model_map = maps.IdentityMap(nP=nC)\n",
    "\n",
    "# Define model. Models in SimPEG are vector arrays.\n",
    "model = background_density * np.ones(nC)\n",
    "\n",
    "# You could find the indicies of specific cells within the model and change their\n",
    "# value to add structures.\n",
    "ind_block = (\n",
    "    (mesh.gridCC[ind_active, 0] > -50.0)\n",
    "    & (mesh.gridCC[ind_active, 0] < -20.0)\n",
    "    & (mesh.gridCC[ind_active, 1] > -15.0)\n",
    "    & (mesh.gridCC[ind_active, 1] < 15.0)\n",
    "    & (mesh.gridCC[ind_active, 2] > -50.0)\n",
    "    & (mesh.gridCC[ind_active, 2] < -30.0)\n",
    ")\n",
    "model[ind_block] = block_density\n",
    "\n",
    "# You can also use SimPEG utilities to add structures to the model more concisely\n",
    "ind_sphere = model_builder.get_indices_sphere(np.r_[35.0, 0.0, -40.0], 15.0, mesh.gridCC)\n",
    "ind_sphere = ind_sphere[ind_active]\n",
    "model[ind_sphere] = sphere_density\n",
    "\n",
    "# Plot Density Contrast Model\n",
    "fig = plt.figure(figsize=(9, 4))\n",
    "plotting_map = maps.InjectActiveCells(mesh, ind_active, np.nan)\n",
    "\n",
    "ax1 = fig.add_axes([0.1, 0.12, 0.73, 0.78])\n",
    "mesh.plot_slice(\n",
    "    plotting_map * model,\n",
    "    normal=\"Y\",\n",
    "    ax=ax1,\n",
    "    ind=int(mesh.shape_cells[1] / 2),\n",
    "    grid=True,\n",
    "    clim=(np.min(model), np.max(model)),\n",
    "    pcolor_opts={\"cmap\": \"viridis\"},\n",
    ")\n",
    "ax1.set_title(\"Model slice at y = 0 m\")\n",
    "ax1.set_xlabel(\"x (m)\")\n",
    "ax1.set_ylabel(\"z (m)\")\n",
    "\n",
    "ax2 = fig.add_axes([0.85, 0.12, 0.05, 0.78])\n",
    "norm = mpl.colors.Normalize(vmin=np.min(model), vmax=np.max(model))\n",
    "cbar = mpl.colorbar.ColorbarBase(\n",
    "    ax2, norm=norm, orientation=\"vertical\", cmap=mpl.cm.viridis\n",
    ")\n",
    "cbar.set_label(\"$g/cm^3$\", rotation=270, labelpad=15, size=12)\n",
    "\n",
    "plt.show()"
   ]
  },
  {
   "cell_type": "markdown",
   "metadata": {},
   "source": [
    "## Simulation: Gravity Anomaly Data on Tensor Mesh\n",
    "\n",
    "Here we demonstrate how to predict gravity anomaly data using the integral\n",
    "formulation.\n",
    "\n",
    "\n"
   ]
  },
  {
   "cell_type": "code",
   "execution_count": 6,
   "metadata": {},
   "outputs": [
    {
     "data": {
      "image/png": "[encoded data removed]",
      "text/plain": [
       "<Figure size 504x360 with 2 Axes>"
      ]
     },
     "metadata": {
      "needs_background": "light"
     },
     "output_type": "display_data"
    }
   ],
   "source": [
    "# Define the forward simulation. By setting the 'store_sensitivities' keyword\n",
    "# argument to \"forward_only\", we simulate the data without storing the sensitivities\n",
    "simulation = gravity.simulation.Simulation3DIntegral(\n",
    "    survey=survey,\n",
    "    mesh=mesh,\n",
    "    rhoMap=model_map,\n",
    "    ind_active=ind_active,\n",
    "    store_sensitivities=\"forward_only\",\n",
    ")\n",
    "\n",
    "# Compute predicted data for some model\n",
    "# SimPEG uses right handed coordinate where Z is positive upward.\n",
    "# This causes gravity signals look \"inconsistent\" with density values in visualization.\n",
    "dpred = simulation.dpred(model)\n",
    "\n",
    "# Plot\n",
    "fig = plt.figure(figsize=(7, 5))\n",
    "\n",
    "ax1 = fig.add_axes([0.1, 0.1, 0.75, 0.85])\n",
    "plot2Ddata(receiver_list[0].locations, dpred, ax=ax1, contourOpts={\"cmap\": \"bwr\"})\n",
    "ax1.set_title(\"Gravity Anomaly (Z-component)\")\n",
    "ax1.set_xlabel(\"x (m)\")\n",
    "ax1.set_ylabel(\"y (m)\")\n",
    "\n",
    "ax2 = fig.add_axes([0.82, 0.1, 0.03, 0.85])\n",
    "norm = mpl.colors.Normalize(vmin=-np.max(np.abs(dpred)), vmax=np.max(np.abs(dpred)))\n",
    "cbar = mpl.colorbar.ColorbarBase(\n",
    "    ax2, norm=norm, orientation=\"vertical\", cmap=mpl.cm.bwr, format=\"%.1e\"\n",
    ")\n",
    "cbar.set_label(\"$mgal$\", rotation=270, labelpad=15, size=12)\n",
    "\n",
    "plt.show()"
   ]
  },
  {
   "cell_type": "markdown",
   "metadata": {},
   "source": [
    "## Optional: Exporting Results\n",
    "\n",
    "Write the data, topography and true model\n",
    "\n",
    "\n"
   ]
  },
  {
   "cell_type": "code",
   "execution_count": 7,
   "metadata": {},
   "outputs": [],
   "source": [
    "if save_output:\n",
    "    dir_path = os.path.dirname(__file__).split(os.path.sep)\n",
    "    dir_path.extend([\"outputs\"])\n",
    "    dir_path = os.path.sep.join(dir_path) + os.path.sep\n",
    "\n",
    "    if not os.path.exists(dir_path):\n",
    "        os.mkdir(dir_path)\n",
    "\n",
    "    fname = dir_path + \"gravity_topo.txt\"\n",
    "    np.savetxt(fname, np.c_[topo_xyz], fmt=\"%.4e\")\n",
    "\n",
    "    np.random.seed(737)\n",
    "    maximum_anomaly = np.max(np.abs(dpred))\n",
    "    noise = 0.01 * maximum_anomaly * np.random.rand(len(dpred))\n",
    "    fname = dir_path + \"gravity_data.obs\"\n",
    "    np.savetxt(fname, np.c_[receiver_locations, dpred + noise], fmt=\"%.4e\")"
   ]
  }
 ],
 "metadata": {
  "kernelspec": {
   "display_name": "Python 3 (ipykernel)",
   "language": "python",
   "name": "python3"
  },
  "language_info": {
   "codemirror_mode": {
    "name": "ipython",
    "version": 3
   },
   "file_extension": ".py",
   "mimetype": "text/x-python",
   "name": "python",
   "nbconvert_exporter": "python",
   "pygments_lexer": "ipython3",
   "version": "3.9.5"
  }
 },
 "nbformat": 4,
 "nbformat_minor": 1
}
