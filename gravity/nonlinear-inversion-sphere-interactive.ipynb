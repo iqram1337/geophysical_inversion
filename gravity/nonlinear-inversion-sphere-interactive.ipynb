{
 "cells": [
  {
   "cell_type": "code",
   "execution_count": 1,
   "id": "81d54a3b",
   "metadata": {},
   "outputs": [
    {
     "data": {
      "application/vnd.jupyter.widget-view+json": {
       "model_id": "65909a4d31f74061ad496492b9e74464",
       "version_major": 2,
       "version_minor": 0
      },
      "text/plain": [
       "interactive(children=(IntSlider(value=0, description='indeks', max=1), Output()), _dom_classes=('widget-intera…"
      ]
     },
     "metadata": {},
     "output_type": "display_data"
    }
   ],
   "source": [
    "import numpy as np\n",
    "import matplotlib.pyplot as plt\n",
    "import pandas as pd\n",
    "from ipywidgets import interact\n",
    "import ipywidgets as widgets\n",
    "\n",
    "@interact\n",
    "def non_linear(indeks=0):\n",
    "    G_konstanta = 6.67e-11 # SI (m^3 kg^-1 s^-2)\n",
    "\n",
    "    # parameter model sintetik\n",
    "    x0 = 400 # m\n",
    "    z0 = 300 # m\n",
    "    R = 100 # m\n",
    "    rho = 3000 # kg/m3\n",
    "\n",
    "    # variabel bebas x\n",
    "    x = np.arange(0,1001,50)\n",
    "\n",
    "    # fungsi forward modelling bola homogen\n",
    "    def f(x0, z0, R, rho):\n",
    "        return G_konstanta*((4/3)*np.pi*(R**3)*z0*rho)/(((x-x0)**2+(z0**2))**(3/2))*10e5\n",
    "\n",
    "    # matriks kernel\n",
    "    G = np.column_stack([f(x0, z0, R, rho)])\n",
    "\n",
    "    # fungsi bola sphere\n",
    "    def bola_sphere(x0, z0, R):\n",
    "        q = np.linspace(0,2*np.pi,1000)\n",
    "\n",
    "        xSphere = R*np.cos(q)+x0\n",
    "        zSphere = R*np.sin(q)+z0\n",
    "\n",
    "        return xSphere, zSphere\n",
    "\n",
    "    # data observasi sintetik\n",
    "    d_obs = f(x0, z0, R, rho)\n",
    "\n",
    "    # model referensi\n",
    "    m_ref = [100,100] # x0,z0\n",
    "\n",
    "    banyak_iterasi = 100\n",
    "    misfit = np.zeros(banyak_iterasi)\n",
    "\n",
    "    # inversi non linier\n",
    "    for i in range(indeks):\n",
    "        i = indeks\n",
    "        # forward modelling\n",
    "        d_fm = f(m_ref[0],m_ref[1],R,rho)\n",
    "        delta_d = d_obs - d_fm\n",
    "\n",
    "        # menghitung misfit\n",
    "        misfit[indeks] = np.sum(delta_d**2)\n",
    "\n",
    "        if misfit[indeks] == 0 or misfit[indeks-1] == misfit[i]:\n",
    "            break\n",
    "        else:\n",
    "            # matrix jacobi\n",
    "            turunanx0 = G_konstanta*(4/3)*np.pi*(R**3)*m_ref[1]*rho*2*(x-m_ref[0])/(((x-m_ref[0])**2 + (0-m_ref[1])**2)**(5/2))*10e5\n",
    "            turunanz0 = G_konstanta*(4/3)*np.pi*(R**3)*m_ref[1]*rho*2*(0-m_ref[1])/(((x-m_ref[0])**2 + (0-m_ref[1])**2)**(5/2))*10e5\n",
    "            J = np.column_stack([turunanx0, turunanz0])\n",
    "\n",
    "            # inversi\n",
    "            m_calc = m_ref + np.linalg.inv((J.T).dot(J)).dot(J.T).dot(delta_d)\n",
    "            m_ref = m_calc\n",
    "    \n",
    "    xb,yb = bola_sphere(x0, z0, R)\n",
    "    xb1,yb1 = bola_sphere(m_ref[0], m_ref[1], R)\n",
    "    d_fm = f(m_ref[0],m_ref[1],R,rho)\n",
    "    \n",
    "    # plotting\n",
    "    fig, (ax1, ax2) = plt.subplots(2, 1, sharex = True, figsize=(6,6))\n",
    "\n",
    "    ax1.plot(x,d_obs,'ko', label=\"data observasi\")\n",
    "    ax1.plot(x,d_fm,'r-', label=\"data kalkulasi\")\n",
    "    ax1.legend()\n",
    "    ax1.set_ylim(0, 10)\n",
    "    ax1.set_xlim(-100,1050)\n",
    "    ax1.set_ylabel(\"anomali gravitasi (mGal)\")\n",
    "    ax1.grid()\n",
    "    \n",
    "    ax2.plot(xb,yb,'k')\n",
    "    ax2.plot(xb1,yb1,'r')\n",
    "    ax2.set_ylim(-50,500)\n",
    "    ax2.set_xlim(-100,1050)\n",
    "    ax2.grid()\n",
    "    ax2.set_ylabel(\"kedalaman (m)\")\n",
    "    ax2.set_xlabel(\"jarak (m)\")\n",
    "    ax2.annotate(f\"iterasi= {indeks}\", xy=[800, 100])\n",
    "    ax2.annotate(f\"RMSE= {misfit[indeks]}\", xy=[800, 200])\n",
    "    ax2.invert_yaxis()\n",
    "    plt.show()"
   ]
  },
  {
   "cell_type": "code",
   "execution_count": 2,
   "id": "24e6ce44",
   "metadata": {},
   "outputs": [
    {
     "data": {
      "application/vnd.jupyter.widget-view+json": {
       "model_id": "0b1f8f9558324f0fa37e1998bf9c7fb3",
       "version_major": 2,
       "version_minor": 0
      },
      "text/plain": [
       "interactive(children=(Play(value=0, description='indeks', interval=1000, max=20), Output()), _dom_classes=('wi…"
      ]
     },
     "metadata": {},
     "output_type": "display_data"
    }
   ],
   "source": [
    "interact(non_linear, indeks=widgets.Play(min=0,max=20, interval=1000))\n",
    "plt.show()"
   ]
  },
  {
   "cell_type": "code",
   "execution_count": 3,
   "id": "8259bec7",
   "metadata": {
    "scrolled": true
   },
   "outputs": [
    {
     "data": {
      "text/plain": [
       "0.0001"
      ]
     },
     "execution_count": 3,
     "metadata": {},
     "output_type": "execute_result"
    }
   ],
   "source": [
    "10e-5"
   ]
  },
  {
   "cell_type": "code",
   "execution_count": null,
   "id": "7e3854f0",
   "metadata": {},
   "outputs": [],
   "source": []
  }
 ],
 "metadata": {
  "kernelspec": {
   "display_name": "Python 3 (ipykernel)",
   "language": "python",
   "name": "python3"
  },
  "language_info": {
   "codemirror_mode": {
    "name": "ipython",
    "version": 3
   },
   "file_extension": ".py",
   "mimetype": "text/x-python",
   "name": "python",
   "nbconvert_exporter": "python",
   "pygments_lexer": "ipython3",
   "version": "3.9.5"
  }
 },
 "nbformat": 4,
 "nbformat_minor": 5
}
