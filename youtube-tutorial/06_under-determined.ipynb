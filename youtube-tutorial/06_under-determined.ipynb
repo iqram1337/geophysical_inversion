{
 "cells": [
  {
   "cell_type": "code",
   "execution_count": 1,
   "id": "bc8fb455",
   "metadata": {},
   "outputs": [],
   "source": [
    "import numpy as np\n",
    "import matplotlib.pyplot as plt"
   ]
  },
  {
   "cell_type": "markdown",
   "id": "05a59690",
   "metadata": {},
   "source": [
    "# Purely Under-determined"
   ]
  },
  {
   "cell_type": "markdown",
   "id": "bd5cc413",
   "metadata": {},
   "source": [
    "### 3x + 2y = 10"
   ]
  },
  {
   "cell_type": "markdown",
   "id": "83528e81",
   "metadata": {},
   "source": [
    "Jika Anda menetapkan x = 2, maka 3(2) + 2y = 10, yang menghasilkan 6 + 2y = 10. Kemudian, y = 2.\n",
    "\n",
    "Atau, jika Anda menetapkan x = 4, maka 3(4) + 2y = 10, yang menghasilkan 12 + 2y = 10. Kemudian, y = -1.\n",
    "\n",
    "Ini adalah contoh-contoh solusi yang mungkin untuk persamaan ini dalam kasus inversi under-determined, dan ada banyak solusi lain yang memungkinkan. Jadi, sistem ini memiliki banyak solusi yang memenuhi persamaan tersebut."
   ]
  },
  {
   "cell_type": "markdown",
   "id": "bfcac2b5",
   "metadata": {},
   "source": [
    "### Persamaan forward modelling\n",
    "### d = Gm"
   ]
  },
  {
   "cell_type": "code",
   "execution_count": 8,
   "id": "09ae6519",
   "metadata": {},
   "outputs": [],
   "source": [
    "# parameter model\n",
    "x = 2\n",
    "y = 2\n",
    "m_obs = np.array([2,2])\n",
    "\n",
    "# matriks kernel\n",
    "G = np.column_stack([3,2])\n",
    "\n",
    "# data observasi\n",
    "d_obs = 3*x + 2*y"
   ]
  },
  {
   "cell_type": "markdown",
   "id": "9d6a56e9",
   "metadata": {},
   "source": [
    "### Solusi inversi under-determined:"
   ]
  },
  {
   "attachments": {
    "image.png": {
     "image/png": "[encoded data removed]"
    }
   },
   "cell_type": "markdown",
   "id": "b0b4fd8e",
   "metadata": {},
   "source": [
    "![image.png](attachment:image.png)"
   ]
  },
  {
   "cell_type": "code",
   "execution_count": 11,
   "id": "f3f5289b",
   "metadata": {},
   "outputs": [
    {
     "data": {
      "text/plain": [
       "array([[2.30769231],\n",
       "       [1.53846154]])"
      ]
     },
     "execution_count": 11,
     "metadata": {},
     "output_type": "execute_result"
    }
   ],
   "source": [
    "# inversi\n",
    "m_calc = (G.T).dot(np.linalg.inv(G.dot(G.T))).dot(10)\n",
    "m_calc"
   ]
  },
  {
   "cell_type": "code",
   "execution_count": 12,
   "id": "f9f0eb74",
   "metadata": {},
   "outputs": [
    {
     "data": {
      "text/plain": [
       "array([[10.]])"
      ]
     },
     "execution_count": 12,
     "metadata": {},
     "output_type": "execute_result"
    }
   ],
   "source": [
    "G.dot(m_calc)"
   ]
  },
  {
   "cell_type": "markdown",
   "id": "644daa57",
   "metadata": {},
   "source": [
    "### Kriteria solusi under-determined:"
   ]
  },
  {
   "attachments": {
    "image.png": {
     "image/png": "[encoded data removed]"
    }
   },
   "cell_type": "markdown",
   "id": "93887a8a",
   "metadata": {},
   "source": [
    "![image.png](attachment:image.png)"
   ]
  },
  {
   "cell_type": "code",
   "execution_count": 14,
   "id": "3aa65478",
   "metadata": {},
   "outputs": [
    {
     "data": {
      "text/plain": [
       "array([[7.69230769]])"
      ]
     },
     "execution_count": 14,
     "metadata": {},
     "output_type": "execute_result"
    }
   ],
   "source": [
    "L = (m_calc.T).dot(m_calc)\n",
    "L"
   ]
  },
  {
   "cell_type": "code",
   "execution_count": 16,
   "id": "c7f634a5",
   "metadata": {},
   "outputs": [
    {
     "data": {
      "text/plain": [
       "7.692307692307693"
      ]
     },
     "execution_count": 16,
     "metadata": {},
     "output_type": "execute_result"
    }
   ],
   "source": [
    "np.sum(m_calc**2)"
   ]
  },
  {
   "cell_type": "markdown",
   "id": "2db3da78",
   "metadata": {},
   "source": [
    "# Inversi under-determind menggunakan a priori atau model referensi (m0)"
   ]
  },
  {
   "cell_type": "markdown",
   "id": "ee031cf3",
   "metadata": {},
   "source": [
    "### $ m = m_0 + G^T(GG^T)^{-1}(d-Gm_0)$"
   ]
  },
  {
   "cell_type": "code",
   "execution_count": 25,
   "id": "7eda08a8",
   "metadata": {},
   "outputs": [
    {
     "data": {
      "text/plain": [
       "array([2.01538462, 1.97692308])"
      ]
     },
     "execution_count": 25,
     "metadata": {},
     "output_type": "execute_result"
    }
   ],
   "source": [
    "# model referensi\n",
    "m0 = np.array([2.2,2.1])\n",
    "\n",
    "# inversi menggunakan m0\n",
    "m_ref_calc = m0 + (G.T).dot(np.linalg.inv(G.dot(G.T))).dot(10 - G.dot(m0))\n",
    "m_ref_calc"
   ]
  },
  {
   "cell_type": "markdown",
   "id": "682a4e01",
   "metadata": {},
   "source": [
    "### Kriteria solusi model referensi"
   ]
  },
  {
   "cell_type": "markdown",
   "id": "8a6ada69",
   "metadata": {},
   "source": [
    "### $ L = (m-m_0)^T (m-m_0)$"
   ]
  },
  {
   "cell_type": "code",
   "execution_count": 26,
   "id": "bd128721",
   "metadata": {},
   "outputs": [
    {
     "data": {
      "text/plain": [
       "0.04923076923076932"
      ]
     },
     "execution_count": 26,
     "metadata": {},
     "output_type": "execute_result"
    }
   ],
   "source": [
    "L_ref = ((m_ref_calc - m0).T).dot(m_ref_calc - m0)\n",
    "L_ref"
   ]
  },
  {
   "cell_type": "code",
   "execution_count": null,
   "id": "c87e6808",
   "metadata": {},
   "outputs": [],
   "source": []
  }
 ],
 "metadata": {
  "kernelspec": {
   "display_name": "Python 3 (ipykernel)",
   "language": "python",
   "name": "python3"
  },
  "language_info": {
   "codemirror_mode": {
    "name": "ipython",
    "version": 3
   },
   "file_extension": ".py",
   "mimetype": "text/x-python",
   "name": "python",
   "nbconvert_exporter": "python",
   "pygments_lexer": "ipython3",
   "version": "3.9.5"
  }
 },
 "nbformat": 4,
 "nbformat_minor": 5
}
