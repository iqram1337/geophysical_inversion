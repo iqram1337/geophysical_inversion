{
 "cells": [
  {
   "cell_type": "code",
   "execution_count": 1,
   "id": "07ad8ada",
   "metadata": {},
   "outputs": [],
   "source": [
    "import numpy as np\n",
    "import matplotlib.pyplot as plt\n",
    "import pandas as pd"
   ]
  },
  {
   "cell_type": "code",
   "execution_count": 2,
   "id": "55f0ae6b",
   "metadata": {},
   "outputs": [],
   "source": [
    "data_sintetik = pd.read_csv(\"output_forward_modelling.csv\")"
   ]
  },
  {
   "cell_type": "code",
   "execution_count": 3,
   "id": "82556a59",
   "metadata": {},
   "outputs": [
    {
     "data": {
      "text/html": [
       "<div>\n",
       "<style scoped>\n",
       "    .dataframe tbody tr th:only-of-type {\n",
       "        vertical-align: middle;\n",
       "    }\n",
       "\n",
       "    .dataframe tbody tr th {\n",
       "        vertical-align: top;\n",
       "    }\n",
       "\n",
       "    .dataframe thead th {\n",
       "        text-align: right;\n",
       "    }\n",
       "</style>\n",
       "<table border=\"1\" class=\"dataframe\">\n",
       "  <thead>\n",
       "    <tr style=\"text-align: right;\">\n",
       "      <th></th>\n",
       "      <th>z</th>\n",
       "      <th>T_obs</th>\n",
       "    </tr>\n",
       "  </thead>\n",
       "  <tbody>\n",
       "    <tr>\n",
       "      <th>0</th>\n",
       "      <td>1</td>\n",
       "      <td>0.636801</td>\n",
       "    </tr>\n",
       "    <tr>\n",
       "      <th>1</th>\n",
       "      <td>2</td>\n",
       "      <td>0.712305</td>\n",
       "    </tr>\n",
       "    <tr>\n",
       "      <th>2</th>\n",
       "      <td>3</td>\n",
       "      <td>1.198533</td>\n",
       "    </tr>\n",
       "    <tr>\n",
       "      <th>3</th>\n",
       "      <td>4</td>\n",
       "      <td>1.294785</td>\n",
       "    </tr>\n",
       "    <tr>\n",
       "      <th>4</th>\n",
       "      <td>5</td>\n",
       "      <td>1.703841</td>\n",
       "    </tr>\n",
       "    <tr>\n",
       "      <th>5</th>\n",
       "      <td>6</td>\n",
       "      <td>1.890776</td>\n",
       "    </tr>\n",
       "    <tr>\n",
       "      <th>6</th>\n",
       "      <td>7</td>\n",
       "      <td>2.356711</td>\n",
       "    </tr>\n",
       "    <tr>\n",
       "      <th>7</th>\n",
       "      <td>8</td>\n",
       "      <td>2.702524</td>\n",
       "    </tr>\n",
       "    <tr>\n",
       "      <th>8</th>\n",
       "      <td>9</td>\n",
       "      <td>2.877653</td>\n",
       "    </tr>\n",
       "    <tr>\n",
       "      <th>9</th>\n",
       "      <td>10</td>\n",
       "      <td>3.337078</td>\n",
       "    </tr>\n",
       "  </tbody>\n",
       "</table>\n",
       "</div>"
      ],
      "text/plain": [
       "    z     T_obs\n",
       "0   1  0.636801\n",
       "1   2  0.712305\n",
       "2   3  1.198533\n",
       "3   4  1.294785\n",
       "4   5  1.703841\n",
       "5   6  1.890776\n",
       "6   7  2.356711\n",
       "7   8  2.702524\n",
       "8   9  2.877653\n",
       "9  10  3.337078"
      ]
     },
     "execution_count": 3,
     "metadata": {},
     "output_type": "execute_result"
    }
   ],
   "source": [
    "data_sintetik"
   ]
  },
  {
   "cell_type": "code",
   "execution_count": 4,
   "id": "13e3170d",
   "metadata": {},
   "outputs": [],
   "source": [
    "z = np.array(data_sintetik[\"z\"])\n",
    "T_obs = np.array(data_sintetik[\"T_obs\"])"
   ]
  },
  {
   "cell_type": "code",
   "execution_count": 5,
   "id": "f44e395a",
   "metadata": {},
   "outputs": [
    {
     "data": {
      "image/png": "[encoded data removed]",
      "text/plain": [
       "<Figure size 432x288 with 1 Axes>"
      ]
     },
     "metadata": {
      "needs_background": "light"
     },
     "output_type": "display_data"
    }
   ],
   "source": [
    "plt.plot(z,T_obs,'o')\n",
    "plt.show()"
   ]
  },
  {
   "cell_type": "markdown",
   "id": "87a8c9a5",
   "metadata": {},
   "source": [
    "# d = Gm"
   ]
  },
  {
   "cell_type": "markdown",
   "id": "3028da13",
   "metadata": {},
   "source": [
    "## T = a + bz"
   ]
  },
  {
   "cell_type": "code",
   "execution_count": 6,
   "id": "b92d2303",
   "metadata": {},
   "outputs": [
    {
     "data": {
      "image/png": "[encoded data removed]",
      "text/plain": [
       "<Figure size 432x288 with 1 Axes>"
      ]
     },
     "metadata": {
      "needs_background": "light"
     },
     "output_type": "display_data"
    },
    {
     "name": "stdout",
     "output_type": "stream",
     "text": [
      "error : 0.09214574651953383\n"
     ]
    }
   ],
   "source": [
    "d = T_obs\n",
    "\n",
    "G = np.array([1,z],dtype='object')\n",
    "\n",
    "a = 0.2\n",
    "b = 0.3\n",
    "\n",
    "m = [a, b]\n",
    "\n",
    "d_kalkulasi = G.dot(m)\n",
    "\n",
    "error = np.sum((d_kalkulasi-T_obs)**2)\n",
    "\n",
    "plt.plot(z, d_kalkulasi, label=\"Temperatur kalkulasi\")\n",
    "plt.plot(z, T_obs, 'ko', label=\"Temperatur observasi\")\n",
    "plt.legend()\n",
    "plt.ylabel(\"T\")\n",
    "plt.xlabel(\"z\")\n",
    "plt.grid()\n",
    "plt.show()\n",
    "\n",
    "print(\"error :\",error)"
   ]
  },
  {
   "cell_type": "code",
   "execution_count": null,
   "id": "569ee255",
   "metadata": {},
   "outputs": [],
   "source": []
  }
 ],
 "metadata": {
  "kernelspec": {
   "display_name": "Python 3 (ipykernel)",
   "language": "python",
   "name": "python3"
  },
  "language_info": {
   "codemirror_mode": {
    "name": "ipython",
    "version": 3
   },
   "file_extension": ".py",
   "mimetype": "text/x-python",
   "name": "python",
   "nbconvert_exporter": "python",
   "pygments_lexer": "ipython3",
   "version": "3.9.5"
  }
 },
 "nbformat": 4,
 "nbformat_minor": 5
}
