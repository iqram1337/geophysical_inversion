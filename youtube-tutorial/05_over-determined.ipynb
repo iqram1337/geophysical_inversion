{
 "cells": [
  {
   "cell_type": "code",
   "execution_count": 1,
   "id": "88efdd95",
   "metadata": {},
   "outputs": [],
   "source": [
    "import numpy as np\n",
    "import matplotlib.pyplot as plt\n",
    "import pandas as pd"
   ]
  },
  {
   "cell_type": "markdown",
   "id": "9245fc74",
   "metadata": {},
   "source": [
    "# Over-determined"
   ]
  },
  {
   "cell_type": "code",
   "execution_count": 2,
   "id": "f2444046",
   "metadata": {},
   "outputs": [],
   "source": [
    "# paramater model\n",
    "a = 0.3\n",
    "b = 0.4\n",
    "\n",
    "# variabel bebas\n",
    "x = np.arange(1,11)\n",
    "\n",
    "# d_obs atau d sintetik\n",
    "d_obs = a + (b*x)\n",
    "\n",
    "# membuat noise\n",
    "np.random.seed(10)\n",
    "noise = np.random.normal(1, 0.4, len(d_obs))\n",
    "\n",
    "# d_obs_noise\n",
    "d_obs_noise = d_obs+noise\n",
    "\n",
    "d_obs_noise[0] = d_obs_noise[0] -5\n",
    "d_obs_noise[2] = d_obs_noise[2] -5"
   ]
  },
  {
   "cell_type": "code",
   "execution_count": 3,
   "id": "020c80df",
   "metadata": {},
   "outputs": [
    {
     "data": {
      "image/png": "[encoded data removed]",
      "text/plain": [
       "<Figure size 432x288 with 1 Axes>"
      ]
     },
     "metadata": {
      "needs_background": "light"
     },
     "output_type": "display_data"
    }
   ],
   "source": [
    "# plotting\n",
    "plt.plot(x, d_obs_noise, \"ro\", label=\"d observasi\")\n",
    "plt.grid()\n",
    "plt.legend()\n",
    "plt.show()"
   ]
  },
  {
   "cell_type": "markdown",
   "id": "469f9dcf",
   "metadata": {},
   "source": [
    "# $m = [G^TG]^{-1}G^Td$"
   ]
  },
  {
   "cell_type": "code",
   "execution_count": 4,
   "id": "486652c5",
   "metadata": {},
   "outputs": [
    {
     "data": {
      "text/plain": [
       "array([-1.86564222,  0.79810283])"
      ]
     },
     "execution_count": 4,
     "metadata": {},
     "output_type": "execute_result"
    }
   ],
   "source": [
    "# matriks kernel\n",
    "G = np.column_stack([x**0, x])\n",
    "\n",
    "# inversi\n",
    "m_calc = (np.linalg.inv(np.transpose(G).dot(G))).dot(np.transpose(G)).dot(d_obs_noise)\n",
    "\n",
    "# d calculated\n",
    "d_calc = m_calc[0]+(m_calc[1]*x)\n",
    "\n",
    "m_calc"
   ]
  },
  {
   "cell_type": "code",
   "execution_count": 5,
   "id": "3f1f9050",
   "metadata": {},
   "outputs": [
    {
     "data": {
      "image/png": "[encoded data removed]",
      "text/plain": [
       "<Figure size 432x288 with 1 Axes>"
      ]
     },
     "metadata": {
      "needs_background": "light"
     },
     "output_type": "display_data"
    }
   ],
   "source": [
    "# plotting\n",
    "plt.plot(x, d_obs_noise, \"ro\", label=\"d observasi\")\n",
    "plt.plot(x, d_calc, \"k-\", label=\"d kalkulasi\")\n",
    "plt.grid()\n",
    "plt.legend()\n",
    "plt.show()"
   ]
  },
  {
   "cell_type": "markdown",
   "id": "450f17c2",
   "metadata": {},
   "source": [
    "### kriteria solusi: misfit minimum\n",
    "### $E = e^Te = [d-Gm]^T [d-Gm]$ "
   ]
  },
  {
   "cell_type": "code",
   "execution_count": 6,
   "id": "634645c5",
   "metadata": {},
   "outputs": [
    {
     "data": {
      "text/plain": [
       "29.16338587100246"
      ]
     },
     "execution_count": 6,
     "metadata": {},
     "output_type": "execute_result"
    }
   ],
   "source": [
    "E1 = np.transpose(d_obs_noise - (G.dot(m_calc))).dot((d_obs_noise - G.dot(m_calc)))\n",
    "E1"
   ]
  },
  {
   "cell_type": "markdown",
   "id": "50d3e30d",
   "metadata": {},
   "source": [
    "# Weighting"
   ]
  },
  {
   "cell_type": "code",
   "execution_count": 7,
   "id": "8ae5a0e7",
   "metadata": {},
   "outputs": [
    {
     "data": {
      "text/plain": [
       "array([[0.1, 0. , 0. , 0. , 0. , 0. , 0. , 0. , 0. , 0. ],\n",
       "       [0. , 1. , 0. , 0. , 0. , 0. , 0. , 0. , 0. , 0. ],\n",
       "       [0. , 0. , 0.1, 0. , 0. , 0. , 0. , 0. , 0. , 0. ],\n",
       "       [0. , 0. , 0. , 1. , 0. , 0. , 0. , 0. , 0. , 0. ],\n",
       "       [0. , 0. , 0. , 0. , 1. , 0. , 0. , 0. , 0. , 0. ],\n",
       "       [0. , 0. , 0. , 0. , 0. , 1. , 0. , 0. , 0. , 0. ],\n",
       "       [0. , 0. , 0. , 0. , 0. , 0. , 1. , 0. , 0. , 0. ],\n",
       "       [0. , 0. , 0. , 0. , 0. , 0. , 0. , 1. , 0. , 0. ],\n",
       "       [0. , 0. , 0. , 0. , 0. , 0. , 0. , 0. , 1. , 0. ],\n",
       "       [0. , 0. , 0. , 0. , 0. , 0. , 0. , 0. , 0. , 1. ]])"
      ]
     },
     "execution_count": 7,
     "metadata": {},
     "output_type": "execute_result"
    }
   ],
   "source": [
    "# weight\n",
    "We = np.identity(len(x))\n",
    "We[0,0] = 0.1\n",
    "We[2,2] = 0.1\n",
    "We"
   ]
  },
  {
   "attachments": {
    "image.png": {
     "image/png": "[encoded data removed]"
    }
   },
   "cell_type": "markdown",
   "id": "54081bb7",
   "metadata": {},
   "source": [
    "![image.png](attachment:image.png)"
   ]
  },
  {
   "cell_type": "code",
   "execution_count": 8,
   "id": "bfc086d4",
   "metadata": {},
   "outputs": [
    {
     "data": {
      "text/plain": [
       "array([0.90964255, 0.44897154])"
      ]
     },
     "execution_count": 8,
     "metadata": {},
     "output_type": "execute_result"
    }
   ],
   "source": [
    "# inversi berbobot\n",
    "m_calc_we = (np.linalg.inv(np.transpose(G).dot(We).dot(G)).dot(np.transpose(G)).dot(We).dot(d_obs_noise))\n",
    "\n",
    "# d calculated with weight\n",
    "d_calc_we = m_calc_we[0] + (m_calc_we[1]*x)\n",
    "\n",
    "m_calc_we"
   ]
  },
  {
   "cell_type": "code",
   "execution_count": 9,
   "id": "0fc89599",
   "metadata": {},
   "outputs": [
    {
     "data": {
      "image/png": "[encoded data removed]",
      "text/plain": [
       "<Figure size 432x288 with 1 Axes>"
      ]
     },
     "metadata": {
      "needs_background": "light"
     },
     "output_type": "display_data"
    }
   ],
   "source": [
    "# plotting\n",
    "#plt.subplots(figsize=(12,6))\n",
    "plt.plot(x, d_obs_noise, \"ro\", label=\"d observation\")\n",
    "plt.plot(x, d_calc, \"k-\", label=\"d calculated\")\n",
    "plt.plot(x, d_calc_we, \"b--\", label=\"d calculated + weight\")\n",
    "plt.grid('on')\n",
    "plt.legend()\n",
    "#plt.savefig(\"plot.png\")\n",
    "plt.show()"
   ]
  },
  {
   "attachments": {
    "image.png": {
     "image/png": "[encoded data removed]"
    }
   },
   "cell_type": "markdown",
   "id": "ea7f4e65",
   "metadata": {},
   "source": [
    "![image.png](attachment:image.png)"
   ]
  },
  {
   "cell_type": "code",
   "execution_count": 10,
   "id": "7146f4e7",
   "metadata": {},
   "outputs": [
    {
     "data": {
      "text/plain": [
       "5.210688650294955"
      ]
     },
     "execution_count": 10,
     "metadata": {},
     "output_type": "execute_result"
    }
   ],
   "source": [
    "E2 = np.transpose(d_obs_noise - (G.dot(m_calc_we))).dot(We).dot((d_obs_noise - G.dot(m_calc_we)))\n",
    "E2"
   ]
  },
  {
   "cell_type": "code",
   "execution_count": 11,
   "id": "88dfae58",
   "metadata": {},
   "outputs": [
    {
     "name": "stdout",
     "output_type": "stream",
     "text": [
      "misfit tanpa weight: 29.16338587100246\n",
      "misfit dengan weight: 5.210688650294955\n"
     ]
    }
   ],
   "source": [
    "print(\"misfit tanpa weight:\", E1)\n",
    "print(\"misfit dengan weight:\", E2)"
   ]
  },
  {
   "cell_type": "code",
   "execution_count": null,
   "id": "8a39774f",
   "metadata": {},
   "outputs": [],
   "source": []
  }
 ],
 "metadata": {
  "kernelspec": {
   "display_name": "Python 3 (ipykernel)",
   "language": "python",
   "name": "python3"
  },
  "language_info": {
   "codemirror_mode": {
    "name": "ipython",
    "version": 3
   },
   "file_extension": ".py",
   "mimetype": "text/x-python",
   "name": "python",
   "nbconvert_exporter": "python",
   "pygments_lexer": "ipython3",
   "version": "3.9.5"
  }
 },
 "nbformat": 4,
 "nbformat_minor": 5
}
