{
 "cells": [
  {
   "cell_type": "code",
   "execution_count": 1,
   "id": "bccd9b29",
   "metadata": {},
   "outputs": [],
   "source": [
    "import numpy as np\n",
    "import matplotlib.pyplot as plt"
   ]
  },
  {
   "cell_type": "code",
   "execution_count": 19,
   "id": "9bcf4194",
   "metadata": {},
   "outputs": [
    {
     "data": {
      "text/plain": [
       "array([1044.03065089, 1640.12194669, 1950.        ])"
      ]
     },
     "execution_count": 19,
     "metadata": {},
     "output_type": "execute_result"
    }
   ],
   "source": [
    "s1 = np.array([500,-1000]) # meter\n",
    "s2 = np.array([1500, -1000]) # meter\n",
    "s3 = np.array([2000, -750]) # meter\n",
    "source = np.array([s1, s2, s3])\n",
    "\n",
    "r1 = np.array([200, 0])\n",
    "\n",
    "v = np.array([800,1200])\n",
    "\n",
    "def L_raypath(s,r):\n",
    "    return np.sqrt((r[0]-s[0])**2 + (r[1]-s[1])**2)\n",
    "\n",
    "L = np.zeros(3)\n",
    "for i in range(3):\n",
    "    L[i] = L_raypath(source[i],r1)\n",
    "    \n",
    "G = np.zeros((3,2))\n",
    "for i in range(1,3):\n",
    "    for j in range(2):\n",
    "        G[i,j] = L[i]/2\n",
    "G[0,0] = L[0]\n",
    "L"
   ]
  },
  {
   "cell_type": "code",
   "execution_count": 23,
   "id": "14531b01",
   "metadata": {},
   "outputs": [
    {
     "data": {
      "text/plain": [
       "array([1.30503831, 1.70846036, 2.03125   ])"
      ]
     },
     "execution_count": 23,
     "metadata": {},
     "output_type": "execute_result"
    }
   ],
   "source": [
    "d= G.dot(1/v)\n",
    "d "
   ]
  },
  {
   "cell_type": "code",
   "execution_count": 30,
   "id": "2998a5a3",
   "metadata": {},
   "outputs": [
    {
     "data": {
      "text/plain": [
       "800.0"
      ]
     },
     "execution_count": 30,
     "metadata": {},
     "output_type": "execute_result"
    }
   ],
   "source": [
    "L[0]/d[0]"
   ]
  },
  {
   "cell_type": "code",
   "execution_count": 32,
   "id": "125b7c38",
   "metadata": {},
   "outputs": [
    {
     "name": "stdout",
     "output_type": "stream",
     "text": [
      "[ 800. 1200.]\n"
     ]
    }
   ],
   "source": [
    "m_calc = np.linalg.inv((G.T).dot(G)).dot(G.T).dot(d)\n",
    "print(1/m_calc)"
   ]
  },
  {
   "cell_type": "code",
   "execution_count": 33,
   "id": "a4ae68c7",
   "metadata": {},
   "outputs": [
    {
     "data": {
      "text/plain": [
       "4.440892098500626e-16"
      ]
     },
     "execution_count": 33,
     "metadata": {},
     "output_type": "execute_result"
    }
   ],
   "source": [
    "e = d-G.dot(m_calc)\n",
    "np.sqrt(e.T.dot(e)/3)"
   ]
  },
  {
   "cell_type": "code",
   "execution_count": 34,
   "id": "8aa4a5af",
   "metadata": {
    "scrolled": true
   },
   "outputs": [
    {
     "data": {
      "text/plain": [
       "array([1.30503831, 1.70846036, 2.03125   ])"
      ]
     },
     "execution_count": 34,
     "metadata": {},
     "output_type": "execute_result"
    }
   ],
   "source": [
    "d"
   ]
  },
  {
   "cell_type": "code",
   "execution_count": 35,
   "id": "be0707b3",
   "metadata": {},
   "outputs": [
    {
     "data": {
      "text/plain": [
       "array([1.30503831, 1.70846036, 2.03125   ])"
      ]
     },
     "execution_count": 35,
     "metadata": {},
     "output_type": "execute_result"
    }
   ],
   "source": [
    "G.dot(m_calc)"
   ]
  },
  {
   "cell_type": "code",
   "execution_count": null,
   "id": "add239e2",
   "metadata": {},
   "outputs": [],
   "source": []
  }
 ],
 "metadata": {
  "kernelspec": {
   "display_name": "Python 3 (ipykernel)",
   "language": "python",
   "name": "python3"
  },
  "language_info": {
   "codemirror_mode": {
    "name": "ipython",
    "version": 3
   },
   "file_extension": ".py",
   "mimetype": "text/x-python",
   "name": "python",
   "nbconvert_exporter": "python",
   "pygments_lexer": "ipython3",
   "version": "3.9.5"
  }
 },
 "nbformat": 4,
 "nbformat_minor": 5
}
