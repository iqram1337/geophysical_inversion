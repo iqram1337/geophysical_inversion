{
 "cells": [
  {
   "cell_type": "code",
   "execution_count": 1,
   "id": "e107e8f0",
   "metadata": {},
   "outputs": [],
   "source": [
    "import numpy as np\n",
    "import matplotlib.pyplot as plt\n",
    "import pandas as pd"
   ]
  },
  {
   "cell_type": "markdown",
   "id": "0c894195",
   "metadata": {},
   "source": [
    "# Mixed-determined"
   ]
  },
  {
   "cell_type": "markdown",
   "id": "7fddaee5",
   "metadata": {},
   "source": [
    "#### Kriteria solusi: misfit + model minimum\n",
    "####  Kriteria solusi: $𝞍 = E + ε^2L$"
   ]
  },
  {
   "cell_type": "code",
   "execution_count": null,
   "id": "93ad5e78",
   "metadata": {},
   "outputs": [],
   "source": []
  },
  {
   "cell_type": "code",
   "execution_count": null,
   "id": "b9d29a8a",
   "metadata": {},
   "outputs": [],
   "source": []
  }
 ],
 "metadata": {
  "kernelspec": {
   "display_name": "Python 3 (ipykernel)",
   "language": "python",
   "name": "python3"
  },
  "language_info": {
   "codemirror_mode": {
    "name": "ipython",
    "version": 3
   },
   "file_extension": ".py",
   "mimetype": "text/x-python",
   "name": "python",
   "nbconvert_exporter": "python",
   "pygments_lexer": "ipython3",
   "version": "3.9.5"
  }
 },
 "nbformat": 4,
 "nbformat_minor": 5
}
