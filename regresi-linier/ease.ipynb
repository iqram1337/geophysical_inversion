{
 "cells": [
  {
   "cell_type": "code",
   "execution_count": 1,
   "id": "8d065bb8",
   "metadata": {},
   "outputs": [],
   "source": [
    "import numpy as np\n",
    "import matplotlib.pyplot as plt\n",
    "import pandas as pd"
   ]
  },
  {
   "attachments": {
    "image.png": {
     "image/png": "[encoded data removed]"
    }
   },
   "cell_type": "markdown",
   "id": "0e52cf6c",
   "metadata": {},
   "source": [
    "![image.png](attachment:image.png)"
   ]
  },
  {
   "cell_type": "markdown",
   "id": "cf41752a",
   "metadata": {},
   "source": [
    "## diketahui: 2 = m1 - 2m2"
   ]
  },
  {
   "cell_type": "code",
   "execution_count": 2,
   "id": "18828997",
   "metadata": {},
   "outputs": [
    {
     "data": {
      "text/plain": [
       "array([[ 0.4],\n",
       "       [-0.8]])"
      ]
     },
     "execution_count": 2,
     "metadata": {},
     "output_type": "execute_result"
    }
   ],
   "source": [
    "G = np.array([[1,-2]])\n",
    "\n",
    "m_calc = np.transpose(G).dot(np.linalg.inv(G.dot(np.transpose(G)))).dot(2)\n",
    "m_calc"
   ]
  },
  {
   "cell_type": "code",
   "execution_count": 3,
   "id": "773c5afc",
   "metadata": {},
   "outputs": [
    {
     "data": {
      "text/plain": [
       "array([ 0.6, -0.7])"
      ]
     },
     "execution_count": 3,
     "metadata": {},
     "output_type": "execute_result"
    }
   ],
   "source": [
    "# model referensi\n",
    "m_ref = np.array([0.5,-0.5])\n",
    "\n",
    "# inversi solusi panjang minimum\n",
    "m_calc_ref = m_ref + np.transpose(G).dot(np.linalg.inv(G.dot(np.transpose(G)))).dot(2 - G.dot(m_ref))\n",
    "m_calc_ref"
   ]
  },
  {
   "cell_type": "code",
   "execution_count": 4,
   "id": "90218bca",
   "metadata": {},
   "outputs": [
    {
     "data": {
      "text/plain": [
       "0.8499999999999999"
      ]
     },
     "execution_count": 4,
     "metadata": {},
     "output_type": "execute_result"
    }
   ],
   "source": [
    "L = np.transpose(m_calc_ref).dot(m_calc_ref)\n",
    "L"
   ]
  },
  {
   "cell_type": "code",
   "execution_count": 5,
   "id": "1d349343",
   "metadata": {},
   "outputs": [
    {
     "data": {
      "text/plain": [
       "array([[ 2.  , -0.08],\n",
       "       [-0.08,  1.22]])"
      ]
     },
     "execution_count": 5,
     "metadata": {},
     "output_type": "execute_result"
    }
   ],
   "source": [
    "L2 = (np.transpose(m_calc-m_calc_ref)).dot(m_calc-m_calc_ref)\n",
    "L2"
   ]
  },
  {
   "cell_type": "code",
   "execution_count": null,
   "id": "a0a149cd",
   "metadata": {},
   "outputs": [],
   "source": []
  }
 ],
 "metadata": {
  "kernelspec": {
   "display_name": "Python 3 (ipykernel)",
   "language": "python",
   "name": "python3"
  },
  "language_info": {
   "codemirror_mode": {
    "name": "ipython",
    "version": 3
   },
   "file_extension": ".py",
   "mimetype": "text/x-python",
   "name": "python",
   "nbconvert_exporter": "python",
   "pygments_lexer": "ipython3",
   "version": "3.9.5"
  }
 },
 "nbformat": 4,
 "nbformat_minor": 5
}
