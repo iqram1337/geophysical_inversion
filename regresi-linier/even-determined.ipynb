{
 "cells": [
  {
   "cell_type": "code",
   "execution_count": 1,
   "id": "e107e8f0",
   "metadata": {},
   "outputs": [],
   "source": [
    "import numpy as np\n",
    "import matplotlib.pyplot as plt\n",
    "import pandas as pd"
   ]
  },
  {
   "cell_type": "markdown",
   "id": "b83dd9c6",
   "metadata": {},
   "source": [
    "# Even-determined | even-constrained"
   ]
  },
  {
   "cell_type": "code",
   "execution_count": 2,
   "id": "7ff6207f",
   "metadata": {},
   "outputs": [],
   "source": [
    "# parameter model\n",
    "a = 2\n",
    "b = 3\n",
    "m_obs = [a,b]\n",
    "\n",
    "# variabel bebas\n",
    "x = np.arange(1,3)\n",
    "\n",
    "# membuat d observasi sintetik\n",
    "d_obs = a+(b*x)"
   ]
  },
  {
   "cell_type": "code",
   "execution_count": 3,
   "id": "27d311a1",
   "metadata": {},
   "outputs": [
    {
     "data": {
      "image/png": "[encoded data removed]",
      "text/plain": [
       "<Figure size 432x288 with 1 Axes>"
      ]
     },
     "metadata": {
      "needs_background": "light"
     },
     "output_type": "display_data"
    }
   ],
   "source": [
    "# plot d observasi\n",
    "plt.plot(x,d_obs,'ro', label=\"d observasi\")\n",
    "plt.legend()\n",
    "plt.grid()\n",
    "plt.show()"
   ]
  },
  {
   "cell_type": "markdown",
   "id": "ff33ea4e",
   "metadata": {},
   "source": [
    "### Testing inversi\n",
    "### m = $G^{-1}$d"
   ]
  },
  {
   "cell_type": "code",
   "execution_count": 4,
   "id": "1301c4b4",
   "metadata": {
    "scrolled": true
   },
   "outputs": [
    {
     "data": {
      "image/png": "[encoded data removed]",
      "text/plain": [
       "<Figure size 432x288 with 1 Axes>"
      ]
     },
     "metadata": {
      "needs_background": "light"
     },
     "output_type": "display_data"
    },
    {
     "name": "stdout",
     "output_type": "stream",
     "text": [
      "[[ 2. -1.]\n",
      " [-1.  1.]]\n",
      "[5 8]\n"
     ]
    }
   ],
   "source": [
    "# matriks kernel\n",
    "G = np.column_stack([x**0, x])\n",
    "\n",
    "# inversi \n",
    "m_calc = (np.linalg.inv(G)).dot(d_obs) # m = G^-1 d\n",
    "d_calc = m_calc[0]+(m_calc[1]*x)\n",
    "\n",
    "plt.plot(x, d_calc, label=\"d kalkulasi\")\n",
    "plt.plot(x, d_obs,'ro', label=\"d observasi\")\n",
    "plt.grid()\n",
    "\n",
    "plt.legend()\n",
    "plt.show()\n",
    "print(np.linalg.inv(G))\n",
    "print(d_obs)"
   ]
  },
  {
   "cell_type": "code",
   "execution_count": 5,
   "id": "3df6f569",
   "metadata": {
    "scrolled": true
   },
   "outputs": [
    {
     "name": "stdout",
     "output_type": "stream",
     "text": [
      "m observasi: [2, 3]\n",
      "m kalkulasi: [2. 3.]\n"
     ]
    }
   ],
   "source": [
    "print('m observasi:',m_obs)\n",
    "print('m kalkulasi:',m_calc)"
   ]
  },
  {
   "cell_type": "markdown",
   "id": "f6700f93",
   "metadata": {},
   "source": [
    "### Menghitung eror"
   ]
  },
  {
   "cell_type": "markdown",
   "id": "5f700956",
   "metadata": {},
   "source": [
    "### E = $e^Te = [d-Gm]^T [d-Gm]$"
   ]
  },
  {
   "cell_type": "code",
   "execution_count": 6,
   "id": "92d6ba1e",
   "metadata": {},
   "outputs": [
    {
     "data": {
      "text/plain": [
       "0.0"
      ]
     },
     "execution_count": 6,
     "metadata": {},
     "output_type": "execute_result"
    }
   ],
   "source": [
    "# notasi matriks\n",
    "E = np.transpose(d_obs - (G.dot(m_calc))).dot(d_obs - (G.dot(m_calc)))\n",
    "E"
   ]
  },
  {
   "cell_type": "code",
   "execution_count": 7,
   "id": "73f0b7ca",
   "metadata": {},
   "outputs": [
    {
     "data": {
      "text/plain": [
       "0.0"
      ]
     },
     "execution_count": 7,
     "metadata": {},
     "output_type": "execute_result"
    }
   ],
   "source": [
    "# notasi somasi\n",
    "E = np.sum((d_calc-d_obs)**2)\n",
    "E"
   ]
  }
 ],
 "metadata": {
  "kernelspec": {
   "display_name": "Python 3 (ipykernel)",
   "language": "python",
   "name": "python3"
  },
  "language_info": {
   "codemirror_mode": {
    "name": "ipython",
    "version": 3
   },
   "file_extension": ".py",
   "mimetype": "text/x-python",
   "name": "python",
   "nbconvert_exporter": "python",
   "pygments_lexer": "ipython3",
   "version": "3.9.5"
  }
 },
 "nbformat": 4,
 "nbformat_minor": 5
}
