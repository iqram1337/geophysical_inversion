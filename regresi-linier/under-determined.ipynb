{
 "cells": [
  {
   "cell_type": "code",
   "execution_count": 1,
   "id": "e107e8f0",
   "metadata": {},
   "outputs": [],
   "source": [
    "import numpy as np\n",
    "import matplotlib.pyplot as plt\n",
    "import pandas as pd"
   ]
  },
  {
   "cell_type": "markdown",
   "id": "4dec73c2",
   "metadata": {},
   "source": [
    "# Under-determined | under-constrained"
   ]
  },
  {
   "cell_type": "markdown",
   "id": "184c06e3",
   "metadata": {},
   "source": [
    "> Minimum length solution for purely under-determined problem."
   ]
  },
  {
   "cell_type": "markdown",
   "id": "d7583847",
   "metadata": {},
   "source": [
    "Solusi dengan lagrange multiplier:\n",
    "## m = $G^T [GG^T]^{-1}d$"
   ]
  },
  {
   "cell_type": "markdown",
   "id": "86862cb5",
   "metadata": {},
   "source": [
    "### 3x + 2y = 10"
   ]
  },
  {
   "cell_type": "markdown",
   "id": "d6b51259",
   "metadata": {},
   "source": [
    "Jika Anda menetapkan x = 2, maka 3(2) + 2y = 10, yang menghasilkan 6 + 2y = 10. Kemudian, y = 2.\n",
    "\n",
    "Atau, jika Anda menetapkan x = 4, maka 3(4) + 2y = 10, yang menghasilkan 12 + 2y = 10. Kemudian, y = -1.\n",
    "\n",
    "Ini adalah contoh-contoh solusi yang mungkin untuk persamaan ini dalam kasus inversi under-determined, dan ada banyak solusi lain yang memungkinkan. Jadi, sistem ini memiliki banyak solusi yang memenuhi persamaan tersebut."
   ]
  },
  {
   "cell_type": "code",
   "execution_count": 2,
   "id": "e0adb88b",
   "metadata": {},
   "outputs": [
    {
     "name": "stdout",
     "output_type": "stream",
     "text": [
      "m observasi: [[2 2]]\n",
      "m kalkulasi: [[2.30769231]\n",
      " [1.53846154]]\n"
     ]
    }
   ],
   "source": [
    "# parameter model\n",
    "x = 2\n",
    "y = 2\n",
    "m_obs = np.array([[x,y]])\n",
    "\n",
    "# d observasi sintetik\n",
    "d_obs = 3*x + 2*y\n",
    "\n",
    "# matriks kernel\n",
    "G = np.array([[3,2]])\n",
    "\n",
    "# inversi\n",
    "m_calc = np.transpose(G).dot(np.linalg.inv(G.dot(np.transpose(G)))).dot(d_obs)\n",
    "\n",
    "print('m observasi:',m_obs)\n",
    "print('m kalkulasi:',m_calc)"
   ]
  },
  {
   "cell_type": "code",
   "execution_count": 3,
   "id": "5a373f67",
   "metadata": {
    "scrolled": true
   },
   "outputs": [
    {
     "data": {
      "text/plain": [
       "array([10.])"
      ]
     },
     "execution_count": 3,
     "metadata": {},
     "output_type": "execute_result"
    }
   ],
   "source": [
    "# testing m kalkulasi\n",
    "m_calc[0]*3 + m_calc[1]*y"
   ]
  },
  {
   "cell_type": "markdown",
   "id": "bb394b47",
   "metadata": {},
   "source": [
    "#### Kriteria solusi: $L = m^Tm$"
   ]
  },
  {
   "cell_type": "code",
   "execution_count": 4,
   "id": "4d25a2f2",
   "metadata": {},
   "outputs": [
    {
     "data": {
      "text/plain": [
       "array([[7.69230769]])"
      ]
     },
     "execution_count": 4,
     "metadata": {},
     "output_type": "execute_result"
    }
   ],
   "source": [
    "L = np.transpose(m_calc).dot(m_calc)\n",
    "L"
   ]
  },
  {
   "cell_type": "markdown",
   "id": "8490759c",
   "metadata": {},
   "source": [
    "### Solusi dengan model referensi\n",
    "### $m = m_{ref} + G^T[GG^T]^{-1}[d-Gm_{ref}]$"
   ]
  },
  {
   "cell_type": "code",
   "execution_count": 5,
   "id": "c09e235e",
   "metadata": {},
   "outputs": [
    {
     "data": {
      "text/plain": [
       "array([1.98461538, 2.02307692])"
      ]
     },
     "execution_count": 5,
     "metadata": {},
     "output_type": "execute_result"
    }
   ],
   "source": [
    "# model referensi\n",
    "m_ref = np.array([2.1,2.1])\n",
    "\n",
    "# inversi\n",
    "m_ref_calc = m_ref + np.transpose(G).dot(np.linalg.inv(G.dot(np.transpose(G)))).dot(d_obs-G.dot(m_ref))\n",
    "m_ref_calc"
   ]
  },
  {
   "cell_type": "code",
   "execution_count": 6,
   "id": "8266cfbd",
   "metadata": {},
   "outputs": [
    {
     "data": {
      "text/plain": [
       "10.0"
      ]
     },
     "execution_count": 6,
     "metadata": {},
     "output_type": "execute_result"
    }
   ],
   "source": [
    "# testing m_ref kalkulasi\n",
    "m_ref_calc[0]*3 + m_ref_calc[1]*y"
   ]
  },
  {
   "cell_type": "markdown",
   "id": "09e80cd3",
   "metadata": {},
   "source": [
    "#### Kriteria solusi: $L = [m-m_{ref}]^T[m-m_{ref}]$"
   ]
  },
  {
   "cell_type": "code",
   "execution_count": 7,
   "id": "10b831bf",
   "metadata": {},
   "outputs": [
    {
     "data": {
      "text/plain": [
       "0.019230769230769263"
      ]
     },
     "execution_count": 7,
     "metadata": {},
     "output_type": "execute_result"
    }
   ],
   "source": [
    "L2 = (np.transpose(m_ref_calc-m_ref)).dot(m_ref_calc-m_ref)\n",
    "L2"
   ]
  },
  {
   "cell_type": "code",
   "execution_count": 8,
   "id": "547af147",
   "metadata": {},
   "outputs": [
    {
     "data": {
      "text/plain": [
       "8.031538461538462"
      ]
     },
     "execution_count": 8,
     "metadata": {},
     "output_type": "execute_result"
    }
   ],
   "source": [
    "L3 = np.transpose(m_ref_calc).dot(m_ref_calc)\n",
    "L3"
   ]
  },
  {
   "cell_type": "code",
   "execution_count": null,
   "id": "58452d75",
   "metadata": {},
   "outputs": [],
   "source": []
  }
 ],
 "metadata": {
  "kernelspec": {
   "display_name": "Python 3 (ipykernel)",
   "language": "python",
   "name": "python3"
  },
  "language_info": {
   "codemirror_mode": {
    "name": "ipython",
    "version": 3
   },
   "file_extension": ".py",
   "mimetype": "text/x-python",
   "name": "python",
   "nbconvert_exporter": "python",
   "pygments_lexer": "ipython3",
   "version": "3.9.5"
  }
 },
 "nbformat": 4,
 "nbformat_minor": 5
}
